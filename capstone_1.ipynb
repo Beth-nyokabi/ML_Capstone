{
 "cells": [
  {
   "cell_type": "code",
   "execution_count": 286,
   "id": "5624137e",
   "metadata": {},
   "outputs": [],
   "source": [
    "#Importing libraries\n",
    "import numpy as np\n",
    "import pandas as pd\n",
    "import matplotlib.pyplot as plt\n",
    "import seaborn as sns\n"
   ]
  },
  {
   "cell_type": "code",
   "execution_count": 287,
   "id": "003d4cff",
   "metadata": {},
   "outputs": [
    {
     "data": {
      "text/html": [
       "<div>\n",
       "<style scoped>\n",
       "    .dataframe tbody tr th:only-of-type {\n",
       "        vertical-align: middle;\n",
       "    }\n",
       "\n",
       "    .dataframe tbody tr th {\n",
       "        vertical-align: top;\n",
       "    }\n",
       "\n",
       "    .dataframe thead th {\n",
       "        text-align: right;\n",
       "    }\n",
       "</style>\n",
       "<table border=\"1\" class=\"dataframe\">\n",
       "  <thead>\n",
       "    <tr style=\"text-align: right;\">\n",
       "      <th></th>\n",
       "      <th>Iso3_code</th>\n",
       "      <th>Country</th>\n",
       "      <th>Region</th>\n",
       "      <th>Subregion</th>\n",
       "      <th>Indicator</th>\n",
       "      <th>Dimension</th>\n",
       "      <th>Category</th>\n",
       "      <th>Sex</th>\n",
       "      <th>Age</th>\n",
       "      <th>Year</th>\n",
       "      <th>Unit of measurement</th>\n",
       "      <th>VALUE</th>\n",
       "      <th>Source</th>\n",
       "    </tr>\n",
       "  </thead>\n",
       "  <tbody>\n",
       "    <tr>\n",
       "      <th>0</th>\n",
       "      <td>AZE</td>\n",
       "      <td>Azerbaijan</td>\n",
       "      <td>Asia</td>\n",
       "      <td>Western Asia</td>\n",
       "      <td>Violent offences</td>\n",
       "      <td>by type of offence</td>\n",
       "      <td>Serious assault</td>\n",
       "      <td>Total</td>\n",
       "      <td>Total</td>\n",
       "      <td>2003</td>\n",
       "      <td>Counts</td>\n",
       "      <td>155.0</td>\n",
       "      <td>CTS</td>\n",
       "    </tr>\n",
       "    <tr>\n",
       "      <th>1</th>\n",
       "      <td>BEL</td>\n",
       "      <td>Belgium</td>\n",
       "      <td>Europe</td>\n",
       "      <td>Western Europe</td>\n",
       "      <td>Violent offences</td>\n",
       "      <td>by type of offence</td>\n",
       "      <td>Serious assault</td>\n",
       "      <td>Total</td>\n",
       "      <td>Total</td>\n",
       "      <td>2003</td>\n",
       "      <td>Counts</td>\n",
       "      <td>61959.0</td>\n",
       "      <td>CTS</td>\n",
       "    </tr>\n",
       "    <tr>\n",
       "      <th>2</th>\n",
       "      <td>BGR</td>\n",
       "      <td>Bulgaria</td>\n",
       "      <td>Europe</td>\n",
       "      <td>Eastern Europe</td>\n",
       "      <td>Violent offences</td>\n",
       "      <td>by type of offence</td>\n",
       "      <td>Serious assault</td>\n",
       "      <td>Total</td>\n",
       "      <td>Total</td>\n",
       "      <td>2003</td>\n",
       "      <td>Counts</td>\n",
       "      <td>3806.0</td>\n",
       "      <td>CTS</td>\n",
       "    </tr>\n",
       "    <tr>\n",
       "      <th>3</th>\n",
       "      <td>BHR</td>\n",
       "      <td>Bahrain</td>\n",
       "      <td>Asia</td>\n",
       "      <td>Western Asia</td>\n",
       "      <td>Violent offences</td>\n",
       "      <td>by type of offence</td>\n",
       "      <td>Serious assault</td>\n",
       "      <td>Total</td>\n",
       "      <td>Total</td>\n",
       "      <td>2003</td>\n",
       "      <td>Counts</td>\n",
       "      <td>2701.0</td>\n",
       "      <td>CTS</td>\n",
       "    </tr>\n",
       "    <tr>\n",
       "      <th>4</th>\n",
       "      <td>BLR</td>\n",
       "      <td>Belarus</td>\n",
       "      <td>Europe</td>\n",
       "      <td>Eastern Europe</td>\n",
       "      <td>Violent offences</td>\n",
       "      <td>by type of offence</td>\n",
       "      <td>Serious assault</td>\n",
       "      <td>Total</td>\n",
       "      <td>Total</td>\n",
       "      <td>2003</td>\n",
       "      <td>Counts</td>\n",
       "      <td>4032.0</td>\n",
       "      <td>CTS</td>\n",
       "    </tr>\n",
       "  </tbody>\n",
       "</table>\n",
       "</div>"
      ],
      "text/plain": [
       "  Iso3_code     Country  Region       Subregion         Indicator  \\\n",
       "0       AZE  Azerbaijan    Asia    Western Asia  Violent offences   \n",
       "1       BEL     Belgium  Europe  Western Europe  Violent offences   \n",
       "2       BGR    Bulgaria  Europe  Eastern Europe  Violent offences   \n",
       "3       BHR     Bahrain    Asia    Western Asia  Violent offences   \n",
       "4       BLR     Belarus  Europe  Eastern Europe  Violent offences   \n",
       "\n",
       "            Dimension         Category    Sex    Age  Year  \\\n",
       "0  by type of offence  Serious assault  Total  Total  2003   \n",
       "1  by type of offence  Serious assault  Total  Total  2003   \n",
       "2  by type of offence  Serious assault  Total  Total  2003   \n",
       "3  by type of offence  Serious assault  Total  Total  2003   \n",
       "4  by type of offence  Serious assault  Total  Total  2003   \n",
       "\n",
       "  Unit of measurement    VALUE Source  \n",
       "0              Counts    155.0    CTS  \n",
       "1              Counts  61959.0    CTS  \n",
       "2              Counts   3806.0    CTS  \n",
       "3              Counts   2701.0    CTS  \n",
       "4              Counts   4032.0    CTS  "
      ]
     },
     "execution_count": 287,
     "metadata": {},
     "output_type": "execute_result"
    }
   ],
   "source": [
    "#Loading the dataset\n",
    "assault = pd.read_excel(\"Sexual_assault.xlsx\")\n",
    "assault.head()"
   ]
  },
  {
   "cell_type": "markdown",
   "id": "d59996e2",
   "metadata": {},
   "source": [
    "### Data Cleaning"
   ]
  },
  {
   "cell_type": "code",
   "execution_count": 288,
   "id": "720661ad",
   "metadata": {},
   "outputs": [
    {
     "data": {
      "text/plain": [
       "Index(['Iso3_code', 'Country', 'Region', 'Subregion', 'Indicator', 'Dimension',\n",
       "       'Category', 'Sex', 'Age', 'Year', 'Unit of measurement', 'VALUE',\n",
       "       'Source'],\n",
       "      dtype='object')"
      ]
     },
     "execution_count": 288,
     "metadata": {},
     "output_type": "execute_result"
    }
   ],
   "source": [
    "assault.columns"
   ]
  },
  {
   "cell_type": "code",
   "execution_count": 289,
   "id": "8f008850",
   "metadata": {},
   "outputs": [
    {
     "data": {
      "text/plain": [
       "array(['Violent offences', 'Victims of serious assault',\n",
       "       'Victims of sexual violence'], dtype=object)"
      ]
     },
     "execution_count": 289,
     "metadata": {},
     "output_type": "execute_result"
    }
   ],
   "source": [
    "assault[\"Indicator\"].unique()\n"
   ]
  },
  {
   "cell_type": "code",
   "execution_count": 290,
   "id": "2e4ee905",
   "metadata": {},
   "outputs": [
    {
     "data": {
      "text/plain": [
       "array(['by type of offence', 'by relationship to perpetrator'],\n",
       "      dtype=object)"
      ]
     },
     "execution_count": 290,
     "metadata": {},
     "output_type": "execute_result"
    }
   ],
   "source": [
    "assault[\"Dimension\"].unique()"
   ]
  },
  {
   "cell_type": "code",
   "execution_count": 291,
   "id": "14cf46b3",
   "metadata": {},
   "outputs": [
    {
     "data": {
      "text/plain": [
       "array(['Serious assault', 'Kidnapping', 'Sexual violence',\n",
       "       'Sexual violence: Rape', 'Sexual violence: Sexual assault',\n",
       "       'Sexual violence: Other acts of sexual violence',\n",
       "       'Sexual Exploitation', 'Intimate partner or family member',\n",
       "       'Other Perpetrator known to the victim',\n",
       "       'Perpetrator unknown to the victim',\n",
       "       'Relationship to perpetrator is not known',\n",
       "       'Acts intended to induce fear or emotional distress',\n",
       "       'Acts intended to induce fear or emotional distress: Cyber-related'],\n",
       "      dtype=object)"
      ]
     },
     "execution_count": 291,
     "metadata": {},
     "output_type": "execute_result"
    }
   ],
   "source": [
    "assault[\"Category\"].unique()"
   ]
  },
  {
   "cell_type": "code",
   "execution_count": 292,
   "id": "8b63b150",
   "metadata": {},
   "outputs": [
    {
     "name": "stdout",
     "output_type": "stream",
     "text": [
      "Initial number of rows: 26114\n"
     ]
    }
   ],
   "source": [
    "print(f\"Initial number of rows: {assault.shape[0]}\")"
   ]
  },
  {
   "cell_type": "code",
   "execution_count": 293,
   "id": "ff59e3be",
   "metadata": {},
   "outputs": [
    {
     "name": "stdout",
     "output_type": "stream",
     "text": [
      "Iso3_code              0\n",
      "Country                0\n",
      "Region                 0\n",
      "Subregion              0\n",
      "Indicator              0\n",
      "Dimension              0\n",
      "Category               0\n",
      "Sex                    0\n",
      "Age                    0\n",
      "Year                   0\n",
      "Unit of measurement    0\n",
      "VALUE                  0\n",
      "Source                 0\n",
      "dtype: int64\n"
     ]
    }
   ],
   "source": [
    "print(assault.isnull().sum())\n"
   ]
  },
  {
   "cell_type": "code",
   "execution_count": 294,
   "id": "602f0baa",
   "metadata": {},
   "outputs": [
    {
     "name": "stdout",
     "output_type": "stream",
     "text": [
      "False\n"
     ]
    }
   ],
   "source": [
    "print(assault.isnull().values.any())\n"
   ]
  },
  {
   "cell_type": "code",
   "execution_count": 295,
   "id": "878f85bc",
   "metadata": {},
   "outputs": [
    {
     "name": "stdout",
     "output_type": "stream",
     "text": [
      "✅ Step 4: Cleaned and converted 'VALUE' column to numeric\n",
      "Rows remaining after removing NaN in VALUE: 26114\n"
     ]
    }
   ],
   "source": [
    "# Replace string values like \"..\" or \"n.a.\" with NaN, and convert to numeric\n",
    "assault['VALUE'] = pd.to_numeric(assault['VALUE'], errors='coerce')\n",
    "\n",
    "# Drop rows where VALUE is missing\n",
    "assault = assault.dropna(subset=['VALUE'])\n",
    "\n",
    "print(\"✅ Step 4: Cleaned and converted 'VALUE' column to numeric\")\n",
    "print(f\"Rows remaining after removing NaN in VALUE: {assault.shape[0]}\")\n"
   ]
  },
  {
   "cell_type": "code",
   "execution_count": 296,
   "id": "d6052e6f",
   "metadata": {},
   "outputs": [
    {
     "name": "stdout",
     "output_type": "stream",
     "text": [
      "✅ Rows retained after dual-filtering:\n",
      "14540\n",
      "\n",
      "Categories retained:\n",
      "Category\n",
      "Sexual violence: Rape                             4006\n",
      "Sexual violence                                   3536\n",
      "Sexual violence: Sexual assault                   1740\n",
      "Sexual violence: Other acts of sexual violence    1098\n",
      "Sexual Exploitation                                994\n",
      "Intimate partner or family member                  922\n",
      "Relationship to perpetrator is not known           822\n",
      "Perpetrator unknown to the victim                  720\n",
      "Other Perpetrator known to the victim              702\n",
      "Name: count, dtype: int64\n",
      "\n",
      "Indicator breakdown:\n",
      "Indicator\n",
      "Violent offences              11374\n",
      "Victims of sexual violence     3166\n",
      "Name: count, dtype: int64\n"
     ]
    }
   ],
   "source": [
    "# Reload fresh dataset\n",
    "assault= pd.read_excel('Sexual_assault.xlsx')\n",
    "\n",
    "# Define sexual categories that are safe to include regardless of Indicator\n",
    "explicit_sexual_categories = [\n",
    "    'Sexual violence',\n",
    "    'Sexual violence: Rape',\n",
    "    'Sexual violence: Sexual assault',\n",
    "    'Sexual violence: Other acts of sexual violence',\n",
    "    'Sexual Exploitation'\n",
    "]\n",
    "\n",
    "# Define perpetrator categories to include ONLY if Indicator is 'Victims of sexual violence'\n",
    "perpetrator_categories = [\n",
    "    'Intimate partner or family member',\n",
    "    'Other Perpetrator known to the victim',\n",
    "    'Perpetrator unknown to the victim',\n",
    "    'Relationship to perpetrator is not known'\n",
    "]\n",
    "\n",
    "# Build two filters and combine\n",
    "condition_explicit = assault['Category'].isin(explicit_sexual_categories)\n",
    "\n",
    "condition_perp = (\n",
    "    (assault['Indicator'] == 'Victims of sexual violence') &\n",
    "    (assault['Category'].isin(perpetrator_categories))\n",
    ")\n",
    "\n",
    "# Combine both into final filtered DataFrame\n",
    "filtered_assault = assault[condition_explicit | condition_perp]\n",
    "\n",
    "# Show what we kept\n",
    "print(\"✅ Rows retained after dual-filtering:\")\n",
    "print(filtered_assault.shape[0])\n",
    "print(\"\\nCategories retained:\")\n",
    "print(filtered_assault['Category'].value_counts())\n",
    "print(\"\\nIndicator breakdown:\")\n",
    "print(filtered_assault['Indicator'].value_counts())\n"
   ]
  },
  {
   "cell_type": "code",
   "execution_count": 297,
   "id": "40bf3887",
   "metadata": {},
   "outputs": [
    {
     "name": "stderr",
     "output_type": "stream",
     "text": [
      "C:\\Users\\Admin\\AppData\\Local\\Temp\\ipykernel_12480\\3912641852.py:1: SettingWithCopyWarning: \n",
      "A value is trying to be set on a copy of a slice from a DataFrame\n",
      "\n",
      "See the caveats in the documentation: https://pandas.pydata.org/pandas-docs/stable/user_guide/indexing.html#returning-a-view-versus-a-copy\n",
      "  filtered_assault.rename(columns={'Unit of measurement': 'Unit_of_measurement'}, inplace=True)\n",
      "C:\\Users\\Admin\\AppData\\Local\\Temp\\ipykernel_12480\\3912641852.py:2: SettingWithCopyWarning: \n",
      "A value is trying to be set on a copy of a slice from a DataFrame\n",
      "\n",
      "See the caveats in the documentation: https://pandas.pydata.org/pandas-docs/stable/user_guide/indexing.html#returning-a-view-versus-a-copy\n",
      "  filtered_assault.rename(columns={'VALUE': 'Value'}, inplace=True)\n"
     ]
    }
   ],
   "source": [
    "filtered_assault.rename(columns={'Unit of measurement': 'Unit_of_measurement'}, inplace=True)\n",
    "filtered_assault.rename(columns={'VALUE': 'Value'}, inplace=True)\n"
   ]
  },
  {
   "cell_type": "code",
   "execution_count": 298,
   "id": "fd21f004",
   "metadata": {},
   "outputs": [
    {
     "data": {
      "text/plain": [
       "Index(['Iso3_code', 'Country', 'Region', 'Subregion', 'Indicator', 'Dimension',\n",
       "       'Category', 'Sex', 'Age', 'Year', 'Unit_of_measurement', 'Value',\n",
       "       'Source'],\n",
       "      dtype='object')"
      ]
     },
     "execution_count": 298,
     "metadata": {},
     "output_type": "execute_result"
    }
   ],
   "source": [
    "filtered_assault.columns"
   ]
  },
  {
   "cell_type": "code",
   "execution_count": 299,
   "id": "36b91ded",
   "metadata": {},
   "outputs": [
    {
     "data": {
      "text/html": [
       "<div>\n",
       "<style scoped>\n",
       "    .dataframe tbody tr th:only-of-type {\n",
       "        vertical-align: middle;\n",
       "    }\n",
       "\n",
       "    .dataframe tbody tr th {\n",
       "        vertical-align: top;\n",
       "    }\n",
       "\n",
       "    .dataframe thead th {\n",
       "        text-align: right;\n",
       "    }\n",
       "</style>\n",
       "<table border=\"1\" class=\"dataframe\">\n",
       "  <thead>\n",
       "    <tr style=\"text-align: right;\">\n",
       "      <th></th>\n",
       "      <th>Iso3_code</th>\n",
       "      <th>Country</th>\n",
       "      <th>Region</th>\n",
       "      <th>Subregion</th>\n",
       "      <th>Indicator</th>\n",
       "      <th>Dimension</th>\n",
       "      <th>Category</th>\n",
       "      <th>Sex</th>\n",
       "      <th>Age</th>\n",
       "      <th>Year</th>\n",
       "      <th>Unit_of_measurement</th>\n",
       "      <th>Value</th>\n",
       "      <th>Source</th>\n",
       "    </tr>\n",
       "  </thead>\n",
       "  <tbody>\n",
       "    <tr>\n",
       "      <th>3796</th>\n",
       "      <td>BEL</td>\n",
       "      <td>Belgium</td>\n",
       "      <td>Europe</td>\n",
       "      <td>Western Europe</td>\n",
       "      <td>Violent offences</td>\n",
       "      <td>by type of offence</td>\n",
       "      <td>Sexual violence</td>\n",
       "      <td>Total</td>\n",
       "      <td>Total</td>\n",
       "      <td>2003</td>\n",
       "      <td>Counts</td>\n",
       "      <td>5565.0</td>\n",
       "      <td>CTS</td>\n",
       "    </tr>\n",
       "    <tr>\n",
       "      <th>3797</th>\n",
       "      <td>BGR</td>\n",
       "      <td>Bulgaria</td>\n",
       "      <td>Europe</td>\n",
       "      <td>Eastern Europe</td>\n",
       "      <td>Violent offences</td>\n",
       "      <td>by type of offence</td>\n",
       "      <td>Sexual violence</td>\n",
       "      <td>Total</td>\n",
       "      <td>Total</td>\n",
       "      <td>2003</td>\n",
       "      <td>Counts</td>\n",
       "      <td>1287.0</td>\n",
       "      <td>CTS</td>\n",
       "    </tr>\n",
       "    <tr>\n",
       "      <th>3798</th>\n",
       "      <td>CAN</td>\n",
       "      <td>Canada</td>\n",
       "      <td>Americas</td>\n",
       "      <td>Northern America</td>\n",
       "      <td>Violent offences</td>\n",
       "      <td>by type of offence</td>\n",
       "      <td>Sexual violence</td>\n",
       "      <td>Total</td>\n",
       "      <td>Total</td>\n",
       "      <td>2003</td>\n",
       "      <td>Counts</td>\n",
       "      <td>26128.0</td>\n",
       "      <td>CTS</td>\n",
       "    </tr>\n",
       "    <tr>\n",
       "      <th>3799</th>\n",
       "      <td>CZE</td>\n",
       "      <td>Czechia</td>\n",
       "      <td>Europe</td>\n",
       "      <td>Eastern Europe</td>\n",
       "      <td>Violent offences</td>\n",
       "      <td>by type of offence</td>\n",
       "      <td>Sexual violence</td>\n",
       "      <td>Total</td>\n",
       "      <td>Total</td>\n",
       "      <td>2003</td>\n",
       "      <td>Counts</td>\n",
       "      <td>1898.0</td>\n",
       "      <td>CTS</td>\n",
       "    </tr>\n",
       "    <tr>\n",
       "      <th>3800</th>\n",
       "      <td>DEU</td>\n",
       "      <td>Germany</td>\n",
       "      <td>Europe</td>\n",
       "      <td>Western Europe</td>\n",
       "      <td>Violent offences</td>\n",
       "      <td>by type of offence</td>\n",
       "      <td>Sexual violence</td>\n",
       "      <td>Total</td>\n",
       "      <td>Total</td>\n",
       "      <td>2003</td>\n",
       "      <td>Counts</td>\n",
       "      <td>54632.0</td>\n",
       "      <td>CTS</td>\n",
       "    </tr>\n",
       "  </tbody>\n",
       "</table>\n",
       "</div>"
      ],
      "text/plain": [
       "     Iso3_code   Country    Region         Subregion         Indicator  \\\n",
       "3796       BEL   Belgium    Europe    Western Europe  Violent offences   \n",
       "3797       BGR  Bulgaria    Europe    Eastern Europe  Violent offences   \n",
       "3798       CAN    Canada  Americas  Northern America  Violent offences   \n",
       "3799       CZE   Czechia    Europe    Eastern Europe  Violent offences   \n",
       "3800       DEU   Germany    Europe    Western Europe  Violent offences   \n",
       "\n",
       "               Dimension         Category    Sex    Age  Year  \\\n",
       "3796  by type of offence  Sexual violence  Total  Total  2003   \n",
       "3797  by type of offence  Sexual violence  Total  Total  2003   \n",
       "3798  by type of offence  Sexual violence  Total  Total  2003   \n",
       "3799  by type of offence  Sexual violence  Total  Total  2003   \n",
       "3800  by type of offence  Sexual violence  Total  Total  2003   \n",
       "\n",
       "     Unit_of_measurement    Value Source  \n",
       "3796              Counts   5565.0    CTS  \n",
       "3797              Counts   1287.0    CTS  \n",
       "3798              Counts  26128.0    CTS  \n",
       "3799              Counts   1898.0    CTS  \n",
       "3800              Counts  54632.0    CTS  "
      ]
     },
     "execution_count": 299,
     "metadata": {},
     "output_type": "execute_result"
    }
   ],
   "source": [
    "filtered_assault.head()"
   ]
  },
  {
   "cell_type": "code",
   "execution_count": 300,
   "id": "e2f078eb",
   "metadata": {},
   "outputs": [
    {
     "name": "stdout",
     "output_type": "stream",
     "text": [
      "Years available: [2003 2004 2005 2006 2007 2008 2009 2010 2011 2012 2013 2014 2015 2016\n",
      " 2017 2018 2019 2020 2021 2022]\n",
      "Countries available: 157\n",
      "Sex values: ['Total' 'Male' 'Female']\n",
      "Categories: ['Sexual violence' 'Sexual violence: Rape'\n",
      " 'Sexual violence: Sexual assault'\n",
      " 'Sexual violence: Other acts of sexual violence' 'Sexual Exploitation'\n",
      " 'Intimate partner or family member'\n",
      " 'Other Perpetrator known to the victim'\n",
      " 'Perpetrator unknown to the victim'\n",
      " 'Relationship to perpetrator is not known']\n"
     ]
    }
   ],
   "source": [
    "print(\"Years available:\", filtered_assault['Year'].unique())\n",
    "print(\"Countries available:\", filtered_assault['Country'].nunique())\n",
    "print(\"Sex values:\", filtered_assault['Sex'].unique())\n",
    "print(\"Categories:\", filtered_assault['Category'].unique())\n"
   ]
  },
  {
   "cell_type": "code",
   "execution_count": 301,
   "id": "7ec6a9dc",
   "metadata": {},
   "outputs": [
    {
     "data": {
      "text/html": [
       "<div>\n",
       "<style scoped>\n",
       "    .dataframe tbody tr th:only-of-type {\n",
       "        vertical-align: middle;\n",
       "    }\n",
       "\n",
       "    .dataframe tbody tr th {\n",
       "        vertical-align: top;\n",
       "    }\n",
       "\n",
       "    .dataframe thead th {\n",
       "        text-align: right;\n",
       "    }\n",
       "</style>\n",
       "<table border=\"1\" class=\"dataframe\">\n",
       "  <thead>\n",
       "    <tr style=\"text-align: right;\">\n",
       "      <th></th>\n",
       "      <th>Iso3_code</th>\n",
       "      <th>Country</th>\n",
       "      <th>Region</th>\n",
       "      <th>Subregion</th>\n",
       "      <th>Indicator</th>\n",
       "      <th>Dimension</th>\n",
       "      <th>Category</th>\n",
       "      <th>Sex</th>\n",
       "      <th>Age</th>\n",
       "      <th>Year</th>\n",
       "      <th>Unit of measurement</th>\n",
       "      <th>txtVALUE</th>\n",
       "      <th>Source</th>\n",
       "    </tr>\n",
       "  </thead>\n",
       "  <tbody>\n",
       "    <tr>\n",
       "      <th>0</th>\n",
       "      <td>ABW</td>\n",
       "      <td>Aruba</td>\n",
       "      <td>Americas</td>\n",
       "      <td>Latin America and the Caribbean</td>\n",
       "      <td>Detected trafficking victims</td>\n",
       "      <td>by country of repatriation</td>\n",
       "      <td>Ukraine</td>\n",
       "      <td>Total</td>\n",
       "      <td>Total</td>\n",
       "      <td>2010</td>\n",
       "      <td>Counts</td>\n",
       "      <td>&lt;5</td>\n",
       "      <td>GLOTIP</td>\n",
       "    </tr>\n",
       "    <tr>\n",
       "      <th>1</th>\n",
       "      <td>AFG</td>\n",
       "      <td>Afghanistan</td>\n",
       "      <td>Asia</td>\n",
       "      <td>Southern Asia</td>\n",
       "      <td>Detected trafficking victims</td>\n",
       "      <td>by country of repatriation</td>\n",
       "      <td>Abroad</td>\n",
       "      <td>Total</td>\n",
       "      <td>Total</td>\n",
       "      <td>2003</td>\n",
       "      <td>Counts</td>\n",
       "      <td>&lt;5</td>\n",
       "      <td>GLOTIP</td>\n",
       "    </tr>\n",
       "    <tr>\n",
       "      <th>2</th>\n",
       "      <td>AFG</td>\n",
       "      <td>Afghanistan</td>\n",
       "      <td>Asia</td>\n",
       "      <td>Southern Asia</td>\n",
       "      <td>Detected trafficking victims</td>\n",
       "      <td>by country of repatriation</td>\n",
       "      <td>Abroad</td>\n",
       "      <td>Total</td>\n",
       "      <td>Total</td>\n",
       "      <td>2008</td>\n",
       "      <td>Counts</td>\n",
       "      <td>&lt;5</td>\n",
       "      <td>GLOTIP</td>\n",
       "    </tr>\n",
       "    <tr>\n",
       "      <th>3</th>\n",
       "      <td>AFG</td>\n",
       "      <td>Afghanistan</td>\n",
       "      <td>Asia</td>\n",
       "      <td>Southern Asia</td>\n",
       "      <td>Offences of trafficking in persons</td>\n",
       "      <td>Total</td>\n",
       "      <td>Total</td>\n",
       "      <td>Total</td>\n",
       "      <td>Total</td>\n",
       "      <td>2013</td>\n",
       "      <td>Counts</td>\n",
       "      <td>103</td>\n",
       "      <td>GLOTIP</td>\n",
       "    </tr>\n",
       "    <tr>\n",
       "      <th>4</th>\n",
       "      <td>AFG</td>\n",
       "      <td>Afghanistan</td>\n",
       "      <td>Asia</td>\n",
       "      <td>Southern Asia</td>\n",
       "      <td>Persons brought into formal contact</td>\n",
       "      <td>Total</td>\n",
       "      <td>Total</td>\n",
       "      <td>Total</td>\n",
       "      <td>Total</td>\n",
       "      <td>2013</td>\n",
       "      <td>Counts</td>\n",
       "      <td>167</td>\n",
       "      <td>GLOTIP</td>\n",
       "    </tr>\n",
       "  </tbody>\n",
       "</table>\n",
       "</div>"
      ],
      "text/plain": [
       "  Iso3_code      Country    Region                        Subregion  \\\n",
       "0       ABW        Aruba  Americas  Latin America and the Caribbean   \n",
       "1       AFG  Afghanistan      Asia                    Southern Asia   \n",
       "2       AFG  Afghanistan      Asia                    Southern Asia   \n",
       "3       AFG  Afghanistan      Asia                    Southern Asia   \n",
       "4       AFG  Afghanistan      Asia                    Southern Asia   \n",
       "\n",
       "                             Indicator                   Dimension Category  \\\n",
       "0         Detected trafficking victims  by country of repatriation  Ukraine   \n",
       "1         Detected trafficking victims  by country of repatriation   Abroad   \n",
       "2         Detected trafficking victims  by country of repatriation   Abroad   \n",
       "3   Offences of trafficking in persons                       Total    Total   \n",
       "4  Persons brought into formal contact                       Total    Total   \n",
       "\n",
       "     Sex    Age  Year Unit of measurement txtVALUE  Source  \n",
       "0  Total  Total  2010              Counts       <5  GLOTIP  \n",
       "1  Total  Total  2003              Counts       <5  GLOTIP  \n",
       "2  Total  Total  2008              Counts       <5  GLOTIP  \n",
       "3  Total  Total  2013              Counts      103  GLOTIP  \n",
       "4  Total  Total  2013              Counts      167  GLOTIP  "
      ]
     },
     "execution_count": 301,
     "metadata": {},
     "output_type": "execute_result"
    }
   ],
   "source": [
    "trafficking = pd.read_excel('human_trafficking.xlsx')\n",
    "\n",
    "trafficking.head()"
   ]
  },
  {
   "cell_type": "code",
   "execution_count": 302,
   "id": "f9633568",
   "metadata": {},
   "outputs": [
    {
     "name": "stdout",
     "output_type": "stream",
     "text": [
      "Dropped rows with missing txtVALUE: 30371\n",
      "Remaining rows after cleaning 'txtVALUE': 28398\n",
      "Renamed 'txtVALUE' column to 'Value'\n"
     ]
    }
   ],
   "source": [
    "# ✅ Convert 'txtVALUE' to numeric and handle errors like '<5' by coercing to NaN\n",
    "trafficking['txtVALUE'] = pd.to_numeric(trafficking['txtVALUE'], errors='coerce')\n",
    "\n",
    "# ✅ Drop rows where 'txtVALUE' is missing (e.g., after coercing '<5' to NaN)\n",
    "initial_rows = trafficking.shape[0]\n",
    "trafficking = trafficking.dropna(subset=['txtVALUE'])\n",
    "print(f\"Dropped rows with missing txtVALUE: {initial_rows - trafficking.shape[0]}\")\n",
    "print(f\"Remaining rows after cleaning 'txtVALUE': {trafficking.shape[0]}\")\n",
    "\n",
    "# ✅ Rename 'txtVALUE' to 'Value' for consistency with your assault dataset\n",
    "trafficking.rename(columns={'txtVALUE': 'Value'}, inplace=True)\n",
    "print(\"Renamed 'txtVALUE' column to 'Value'\")\n"
   ]
  },
  {
   "cell_type": "code",
   "execution_count": 303,
   "id": "d63d6006",
   "metadata": {},
   "outputs": [],
   "source": [
    "trafficking.rename(columns={'Unit of measurement': 'Unit_of_measurement'}, inplace=True)"
   ]
  },
  {
   "cell_type": "code",
   "execution_count": 304,
   "id": "538f0192",
   "metadata": {},
   "outputs": [
    {
     "data": {
      "text/html": [
       "<div>\n",
       "<style scoped>\n",
       "    .dataframe tbody tr th:only-of-type {\n",
       "        vertical-align: middle;\n",
       "    }\n",
       "\n",
       "    .dataframe tbody tr th {\n",
       "        vertical-align: top;\n",
       "    }\n",
       "\n",
       "    .dataframe thead th {\n",
       "        text-align: right;\n",
       "    }\n",
       "</style>\n",
       "<table border=\"1\" class=\"dataframe\">\n",
       "  <thead>\n",
       "    <tr style=\"text-align: right;\">\n",
       "      <th></th>\n",
       "      <th>Iso3_code</th>\n",
       "      <th>Country</th>\n",
       "      <th>Region</th>\n",
       "      <th>Subregion</th>\n",
       "      <th>Indicator</th>\n",
       "      <th>Dimension</th>\n",
       "      <th>Category</th>\n",
       "      <th>Sex</th>\n",
       "      <th>Age</th>\n",
       "      <th>Year</th>\n",
       "      <th>Unit_of_measurement</th>\n",
       "      <th>Value</th>\n",
       "      <th>Source</th>\n",
       "    </tr>\n",
       "  </thead>\n",
       "  <tbody>\n",
       "    <tr>\n",
       "      <th>3</th>\n",
       "      <td>AFG</td>\n",
       "      <td>Afghanistan</td>\n",
       "      <td>Asia</td>\n",
       "      <td>Southern Asia</td>\n",
       "      <td>Offences of trafficking in persons</td>\n",
       "      <td>Total</td>\n",
       "      <td>Total</td>\n",
       "      <td>Total</td>\n",
       "      <td>Total</td>\n",
       "      <td>2013</td>\n",
       "      <td>Counts</td>\n",
       "      <td>103.0</td>\n",
       "      <td>GLOTIP</td>\n",
       "    </tr>\n",
       "    <tr>\n",
       "      <th>4</th>\n",
       "      <td>AFG</td>\n",
       "      <td>Afghanistan</td>\n",
       "      <td>Asia</td>\n",
       "      <td>Southern Asia</td>\n",
       "      <td>Persons brought into formal contact</td>\n",
       "      <td>Total</td>\n",
       "      <td>Total</td>\n",
       "      <td>Total</td>\n",
       "      <td>Total</td>\n",
       "      <td>2013</td>\n",
       "      <td>Counts</td>\n",
       "      <td>167.0</td>\n",
       "      <td>GLOTIP</td>\n",
       "    </tr>\n",
       "    <tr>\n",
       "      <th>12</th>\n",
       "      <td>AGO</td>\n",
       "      <td>Angola</td>\n",
       "      <td>Africa</td>\n",
       "      <td>Sub-Saharan Africa</td>\n",
       "      <td>Detected trafficking victims</td>\n",
       "      <td>Total</td>\n",
       "      <td>Total</td>\n",
       "      <td>Total</td>\n",
       "      <td>0 to 17 years</td>\n",
       "      <td>2009</td>\n",
       "      <td>Counts</td>\n",
       "      <td>15.0</td>\n",
       "      <td>GLOTIP</td>\n",
       "    </tr>\n",
       "    <tr>\n",
       "      <th>14</th>\n",
       "      <td>AGO</td>\n",
       "      <td>Angola</td>\n",
       "      <td>Africa</td>\n",
       "      <td>Sub-Saharan Africa</td>\n",
       "      <td>Detected trafficking victims</td>\n",
       "      <td>Total</td>\n",
       "      <td>Total</td>\n",
       "      <td>Total</td>\n",
       "      <td>Total</td>\n",
       "      <td>2009</td>\n",
       "      <td>Counts</td>\n",
       "      <td>15.0</td>\n",
       "      <td>GLOTIP</td>\n",
       "    </tr>\n",
       "    <tr>\n",
       "      <th>15</th>\n",
       "      <td>AGO</td>\n",
       "      <td>Angola</td>\n",
       "      <td>Africa</td>\n",
       "      <td>Sub-Saharan Africa</td>\n",
       "      <td>Detected trafficking victims</td>\n",
       "      <td>by form of exploitation</td>\n",
       "      <td>Sexual exploitation</td>\n",
       "      <td>Total</td>\n",
       "      <td>Total</td>\n",
       "      <td>2009</td>\n",
       "      <td>Counts</td>\n",
       "      <td>15.0</td>\n",
       "      <td>GLOTIP</td>\n",
       "    </tr>\n",
       "  </tbody>\n",
       "</table>\n",
       "</div>"
      ],
      "text/plain": [
       "   Iso3_code      Country  Region           Subregion  \\\n",
       "3        AFG  Afghanistan    Asia       Southern Asia   \n",
       "4        AFG  Afghanistan    Asia       Southern Asia   \n",
       "12       AGO       Angola  Africa  Sub-Saharan Africa   \n",
       "14       AGO       Angola  Africa  Sub-Saharan Africa   \n",
       "15       AGO       Angola  Africa  Sub-Saharan Africa   \n",
       "\n",
       "                              Indicator                Dimension  \\\n",
       "3    Offences of trafficking in persons                    Total   \n",
       "4   Persons brought into formal contact                    Total   \n",
       "12         Detected trafficking victims                    Total   \n",
       "14         Detected trafficking victims                    Total   \n",
       "15         Detected trafficking victims  by form of exploitation   \n",
       "\n",
       "               Category    Sex            Age  Year Unit_of_measurement  \\\n",
       "3                 Total  Total          Total  2013              Counts   \n",
       "4                 Total  Total          Total  2013              Counts   \n",
       "12                Total  Total  0 to 17 years  2009              Counts   \n",
       "14                Total  Total          Total  2009              Counts   \n",
       "15  Sexual exploitation  Total          Total  2009              Counts   \n",
       "\n",
       "    Value  Source  \n",
       "3   103.0  GLOTIP  \n",
       "4   167.0  GLOTIP  \n",
       "12   15.0  GLOTIP  \n",
       "14   15.0  GLOTIP  \n",
       "15   15.0  GLOTIP  "
      ]
     },
     "execution_count": 304,
     "metadata": {},
     "output_type": "execute_result"
    }
   ],
   "source": [
    "trafficking.head()"
   ]
  },
  {
   "cell_type": "code",
   "execution_count": 305,
   "id": "45ddcfab",
   "metadata": {},
   "outputs": [
    {
     "name": "stdout",
     "output_type": "stream",
     "text": [
      "📌 Unique values in 'Indicator':\n",
      "['Offences of trafficking in persons'\n",
      " 'Persons brought into formal contact' 'Detected trafficking victims'\n",
      " 'Persons prosecuted' 'Persons convicted']\n",
      "\n",
      "📌 Unique values in 'Category':\n",
      "['Total' 'Sexual exploitation' 'Nationals' 'Forced labour' 'Angolan'\n",
      " 'Congolese (DRC)' 'Nigerians' 'Chinese' 'Albania' nan 'Abroad'\n",
      " 'Bangladesh' 'Uzbekistan' 'Iraq' 'India' 'Indonesia' 'Lebanon'\n",
      " 'Philippines' 'Thailand' 'Kazakhstan' 'Republic of Moldova' 'Tajikistan'\n",
      " 'Pakistan' 'Tunisia' 'Armenia' 'Azerbaijan' 'Kyrgyzstan' 'Nigeria'\n",
      " 'Uganda' 'Argentina' 'Bolivia (Plurinational State of)' 'Paraguay' 'Peru'\n",
      " 'China' 'Dominican Republic' 'Colombia' 'ARGENTINA' 'BOLIVIA' 'BRASIL'\n",
      " 'OTROS' 'PARAGUAY' 'PERU' 'R.DOMINICANA' 'Bolivia' 'Chile' 'R.Dominicana'\n",
      " 'Uruguay' 'Venezuela' 'Brasil' 'Senegal' 'Ciudadanos de su pa�s'\n",
      " 'Corea del Sur' 'Ecuador' 'R.dominicana' 'Russian Federation'\n",
      " 'Republic of Korea' 'Malaysia' 'Unknown' 'Australia' 'Afghanistan'\n",
      " 'Afghani' 'Australians' 'Fijian' 'Indian' 'Indonesian' 'Iranian'\n",
      " 'Lebanese' 'Malaysian' 'Pakistani' 'Sri Lankan' 'Sudanese' 'Thai'\n",
      " 'Austria' 'Bulgaria' 'Hungary' 'Lithuania' 'Romania' 'Slovakia' 'Ukraine'\n",
      " 'Czechia' 'Serbia' 'Rumania' 'Austrians' 'Bulgarian' 'Filippino'\n",
      " 'Hungarians' 'Romanian' 'Serbians' 'Ethiopian' 'Moldavian' 'Moroccan'\n",
      " 'Slovaks' 'Venezuelan' 'Brazilian' 'Colombian' 'Kenyan' 'Ukraineans'\n",
      " 'Azerbaijani' 'Burundi' 'Brazil' 'Morocco' 'Poland' 'Egypt' 'Turkey'\n",
      " 'Benin' 'Egyptian' 'Belgium' 'Vietnamese' 'Ivory Coast' 'Syria'\n",
      " 'Burkina Faso' 'Burkinabe' 'Mali' 'Sri Lanka' 'Kazaki' 'Bahrain'\n",
      " 'Russian' 'Bosnia and Herzegovina' 'Bosnian' 'Belarus' 'Viet Nam'\n",
      " 'Honduranian' 'Sin determinar' 'TOTAL' 'Haitiano'\n",
      " '(especifique otras nacionalidades)' 'Guyana' 'Bhutanese' 'Ghanean'\n",
      " 'Zimbabwean' 'Canada' 'Jamaica' 'Personnes de nationalit� �trang�re'\n",
      " 'Boliviana' 'Colombiana' 'Paraguaya' 'Tailandesa' 'Haitiana' 'Venezolana'\n",
      " 'Myanmar' 'Mongolia' 'Cambodia' 'Timor-Leste' \"Cote d'Ivoire\" 'Portugal'\n",
      " 'BURKINA FASO' 'NIGERIA' 'GUINEE' 'BENIN' \"C�TE D'IVOIRE\" 'GHANA'\n",
      " 'GUINEE CONAKRY' 'LIBERIA' 'MALI' 'NIGER' 'SIERRA LEONE' 'TOGO' 'VIETNAM'\n",
      " 'COLOMBIA' 'VENEZUELA' 'CHINA' 'ESPA�A' 'INDIA' 'QATAR' 'COREA DEL SUR'\n",
      " 'M�XICO' 'PER�' 'Costa Rica' 'Nicaragua' 'Cuba' 'Cuban' 'Latvia'\n",
      " 'Cameroon' 'Cypriot' 'Cameroonian' 'Cyprus' 'Czech Rep' 'Germany' 'Ghana'\n",
      " 'Venezuela (Bolivarian Republic of)' 'Croatia' 'Italy' 'Albanian'\n",
      " 'Georgian' 'German' 'Hungarian' 'Latvian' 'Macedonian' 'Nigerian'\n",
      " 'Polish' 'Serbian' 'Slovak' 'Turkish' 'without' 'Africa others'\n",
      " 'own country' 'Czech' 'Gambian' 'Guinea' 'Moldovan' 'Ukrainian'\n",
      " 'vietnamese' 'EU-28 others' 'Germans' 'Guinean' 'Poles' 'Nationality'\n",
      " 'Other Europe' 'Lithuanian' 'Vietnam' 'Danish' 'Haiti'\n",
      " 'Rep�blica Dominicana' 'Niger' 'ECUADOR' 'NO DETERMINADA'\n",
      " 'No Determinado' 'COLOMBIANA' 'Spain' 'BULGARIA' 'MARRUECOS' 'RUMANÍA'\n",
      " 'RUSIA' 'MOLDAVIA' 'PORTUGAL' 'RUMANIA' 'Dominican rep' 'Nicaraguarean'\n",
      " 'Paraguayian' 'Senegalese' 'Spanish' 'Hondureans' 'Peruvian' 'Algerians'\n",
      " 'Estonia' 'Estonians' 'Somalia' 'Finland' 'Eritrea' 'Iran' 'Moldova'\n",
      " 'Finns' 'Nepalese' 'Somali' 'Albanians' 'Algeria' 'France' 'Sierra Leone'\n",
      " 'Madagascar' 'Mauritius' 'Comorian islands' 'French' 'Italian' 'Nigerin'\n",
      " 'Haitian' 'Portuguese' 'Beninoise' 'Equatorial Guinea' 'Eritrean'\n",
      " 'Israelian' 'Malian' 'USA' 'United Kingdom' 'Zimbabwe' 'Kenya'\n",
      " 'United Kingdom of Great Britain and Northern Ireland'\n",
      " 'Democratic Republic of the Congo' 'Ethiopia' 'Gambia'\n",
      " 'Iran (Islamic Republic of)' 'Kuwait' 'Namibia' 'Netherlands'\n",
      " 'South Africa' 'Sudan' 'Syrian Arab Republic' 'Botzwana' 'Chadian'\n",
      " 'Dutch' 'Ireland' 'Jamaican' 'Kosovar' 'Lybians'\n",
      " 'Other Central America and Caribbean' 'Saudi' 'Sierra Leonean'\n",
      " 'South African' 'St Vincent' 'Tanzanian' 'Trinidad and Tobago' 'Ugandean'\n",
      " 'Yemeni' 'Africa and Middle East' 'Greek' 'Jordanian' 'Malawi'\n",
      " 'Mauritanian' 'Mongolian' 'MyanMar' 'Other Asia'\n",
      " 'Other Central America and Car' 'Palestine' 'South Sudan' 'CAR'\n",
      " 'Liberian' 'Salvadorean' 'Swedesh' 'Argentinian' 'Kyrgysi' 'Taiwan'\n",
      " 'Timor Este' 'Greece' 'El Salvador' 'Guatemala' 'Honduras' 'GUATEMALTECA'\n",
      " 'HONDUREÑA' 'MEXICANA' 'SALVADOREÑA' 'VENEZOLANA' 'TOTAL POR AÑO'\n",
      " 'HONDURE�A' 'Haitians' 'Cubans'\n",
      " 'Other Countries (Dominica, Panama, French Guiana, Brazil, etc.)'\n",
      " 'Venezuelans' 'Guayanean' 'México' 'Croatian' 'Nepal' 'Turkmenistan'\n",
      " 'Africa' 'Asia' 'European Economic Area' 'Georgia' 'Israel' 'The Ukraine'\n",
      " 'Russia' 'Mexico' 'Palestinian Authority' 'Former Yugoslavia'\n",
      " 'The former Yugoslav Republic of Macedonia' 'Cina Popolare' 'Egitto'\n",
      " 'Marocco' 'Afganistan' \"Costa d'Avorio\" 'Moldavia' 'Jordan' 'BANGLADESH'\n",
      " 'EGYBT' 'IRAQ' 'China, Taiwan Province of China' 'Japan' 'Filipino'\n",
      " 'Rwanda' 'United Republic of Tanzania' 'Albanie' 'Tajiki' 'Uzbecki'\n",
      " 'Mexican' 'Philippine' 'Ukranian' 'Myanmar Nation' 'Domestic (Myanmar)'\n",
      " 'Dubai' 'Laos' 'Singapore' '(specify the country)' 'Mozambique'\n",
      " 'Mauritania' \"Lao People's Democratic Republic\" 'CAMBODIA' 'INDONESIA'\n",
      " 'LAOS' 'MALAYSIA' 'MYANMAR' 'NEPAL' 'PHILIPPINES' 'THAILAND' 'Cambodian'\n",
      " 'Angolans' 'Zambian' 'Togo' 'Yemen' 'Libya' 'Benin Rep' \"Cote d'ivoire\"\n",
      " 'Niger Rep' 'Saudi Arabia' 'UAE' 'Togolese' 'Oman' 'Angola' 'Congo'\n",
      " 'Liberia' 'Suriname' \"Democratic People's Republic of Korea\"\n",
      " 'Netherlands (own country)' 'Erithera' 'Fiji' 'Samoa' 'DESCONOCIDA'\n",
      " 'Guatemalean' 'Guinea-Bissau' 'NO REGISTRA' 'Qatar' 'Spania' 'UK'\n",
      " 'Sweden' 'Denmark' 'Solomon islanders' '(Lebanon)' '(Oman)' 'EL SALVADOR'\n",
      " 'NO DETERMINADAS' 'Salvadore�as' 'Slovenia' 'Swaziland' 'Laotian'\n",
      " 'Burmese' 'Rohingya' 'Ugandan' 'Kazakhistan' 'SYRIA' 'Democratic Kongo'\n",
      " 'TANZANIANS' 'TANZANIANANS' 'TAZANIANS' 'Burundean' 'Rwandean'\n",
      " 'foreigners' 'Uruguayan' 'United States of America' 'Belize' 'Maldives'\n",
      " 'Saint Vincent and the Grenadines' 'Botswana'\n",
      " 'China, Hong Kong Special Administrative Region' '145' 'Lesotho' '6'\n",
      " 'Zambia' 'Other forms of exploitation']\n"
     ]
    }
   ],
   "source": [
    "# View unique values in 'Indicator' column\n",
    "print(\"📌 Unique values in 'Indicator':\")\n",
    "print(trafficking['Indicator'].unique())\n",
    "\n",
    "print(\"\\n📌 Unique values in 'Category':\")\n",
    "print(trafficking['Category'].unique())\n"
   ]
  },
  {
   "cell_type": "code",
   "execution_count": 306,
   "id": "72ca60d4",
   "metadata": {},
   "outputs": [
    {
     "name": "stdout",
     "output_type": "stream",
     "text": [
      "✅ Rows retained for category 'Sexual Exploitation': 3036\n"
     ]
    }
   ],
   "source": [
    "# Filter for trafficking records related to Sexual Exploitation only\n",
    "trafficking = trafficking[trafficking['Category'] == 'Sexual exploitation']\n",
    "print(\"✅ Rows retained for category 'Sexual Exploitation':\", trafficking.shape[0])\n"
   ]
  },
  {
   "cell_type": "code",
   "execution_count": 307,
   "id": "28455072",
   "metadata": {},
   "outputs": [
    {
     "data": {
      "text/html": [
       "<div>\n",
       "<style scoped>\n",
       "    .dataframe tbody tr th:only-of-type {\n",
       "        vertical-align: middle;\n",
       "    }\n",
       "\n",
       "    .dataframe tbody tr th {\n",
       "        vertical-align: top;\n",
       "    }\n",
       "\n",
       "    .dataframe thead th {\n",
       "        text-align: right;\n",
       "    }\n",
       "</style>\n",
       "<table border=\"1\" class=\"dataframe\">\n",
       "  <thead>\n",
       "    <tr style=\"text-align: right;\">\n",
       "      <th></th>\n",
       "      <th>Iso3_code</th>\n",
       "      <th>Country</th>\n",
       "      <th>Region</th>\n",
       "      <th>Subregion</th>\n",
       "      <th>Indicator</th>\n",
       "      <th>Dimension</th>\n",
       "      <th>Category</th>\n",
       "      <th>Sex</th>\n",
       "      <th>Age</th>\n",
       "      <th>Year</th>\n",
       "      <th>Unit_of_measurement</th>\n",
       "      <th>Value</th>\n",
       "      <th>Source</th>\n",
       "    </tr>\n",
       "  </thead>\n",
       "  <tbody>\n",
       "    <tr>\n",
       "      <th>15</th>\n",
       "      <td>AGO</td>\n",
       "      <td>Angola</td>\n",
       "      <td>Africa</td>\n",
       "      <td>Sub-Saharan Africa</td>\n",
       "      <td>Detected trafficking victims</td>\n",
       "      <td>by form of exploitation</td>\n",
       "      <td>Sexual exploitation</td>\n",
       "      <td>Total</td>\n",
       "      <td>Total</td>\n",
       "      <td>2009</td>\n",
       "      <td>Counts</td>\n",
       "      <td>15.0</td>\n",
       "      <td>GLOTIP</td>\n",
       "    </tr>\n",
       "    <tr>\n",
       "      <th>183</th>\n",
       "      <td>AGO</td>\n",
       "      <td>Angola</td>\n",
       "      <td>Africa</td>\n",
       "      <td>Sub-Saharan Africa</td>\n",
       "      <td>Detected trafficking victims</td>\n",
       "      <td>by form of exploitation</td>\n",
       "      <td>Sexual exploitation</td>\n",
       "      <td>Female</td>\n",
       "      <td>0 to 17 years</td>\n",
       "      <td>2020</td>\n",
       "      <td>Counts</td>\n",
       "      <td>8.0</td>\n",
       "      <td>GLOTIP</td>\n",
       "    </tr>\n",
       "    <tr>\n",
       "      <th>187</th>\n",
       "      <td>AGO</td>\n",
       "      <td>Angola</td>\n",
       "      <td>Africa</td>\n",
       "      <td>Sub-Saharan Africa</td>\n",
       "      <td>Detected trafficking victims</td>\n",
       "      <td>by form of exploitation</td>\n",
       "      <td>Sexual exploitation</td>\n",
       "      <td>Total</td>\n",
       "      <td>0 to 17 years</td>\n",
       "      <td>2020</td>\n",
       "      <td>Counts</td>\n",
       "      <td>8.0</td>\n",
       "      <td>GLOTIP</td>\n",
       "    </tr>\n",
       "    <tr>\n",
       "      <th>189</th>\n",
       "      <td>AGO</td>\n",
       "      <td>Angola</td>\n",
       "      <td>Africa</td>\n",
       "      <td>Sub-Saharan Africa</td>\n",
       "      <td>Detected trafficking victims</td>\n",
       "      <td>by form of exploitation</td>\n",
       "      <td>Sexual exploitation</td>\n",
       "      <td>Total</td>\n",
       "      <td>Total</td>\n",
       "      <td>2020</td>\n",
       "      <td>Counts</td>\n",
       "      <td>8.0</td>\n",
       "      <td>GLOTIP</td>\n",
       "    </tr>\n",
       "    <tr>\n",
       "      <th>207</th>\n",
       "      <td>AGO</td>\n",
       "      <td>Angola</td>\n",
       "      <td>Africa</td>\n",
       "      <td>Sub-Saharan Africa</td>\n",
       "      <td>Persons convicted</td>\n",
       "      <td>by form of exploitation</td>\n",
       "      <td>Sexual exploitation</td>\n",
       "      <td>Total</td>\n",
       "      <td>Total</td>\n",
       "      <td>2020</td>\n",
       "      <td>Counts</td>\n",
       "      <td>8.0</td>\n",
       "      <td>GLOTIP</td>\n",
       "    </tr>\n",
       "  </tbody>\n",
       "</table>\n",
       "</div>"
      ],
      "text/plain": [
       "    Iso3_code Country  Region           Subregion  \\\n",
       "15        AGO  Angola  Africa  Sub-Saharan Africa   \n",
       "183       AGO  Angola  Africa  Sub-Saharan Africa   \n",
       "187       AGO  Angola  Africa  Sub-Saharan Africa   \n",
       "189       AGO  Angola  Africa  Sub-Saharan Africa   \n",
       "207       AGO  Angola  Africa  Sub-Saharan Africa   \n",
       "\n",
       "                        Indicator                Dimension  \\\n",
       "15   Detected trafficking victims  by form of exploitation   \n",
       "183  Detected trafficking victims  by form of exploitation   \n",
       "187  Detected trafficking victims  by form of exploitation   \n",
       "189  Detected trafficking victims  by form of exploitation   \n",
       "207             Persons convicted  by form of exploitation   \n",
       "\n",
       "                Category     Sex            Age  Year Unit_of_measurement  \\\n",
       "15   Sexual exploitation   Total          Total  2009              Counts   \n",
       "183  Sexual exploitation  Female  0 to 17 years  2020              Counts   \n",
       "187  Sexual exploitation   Total  0 to 17 years  2020              Counts   \n",
       "189  Sexual exploitation   Total          Total  2020              Counts   \n",
       "207  Sexual exploitation   Total          Total  2020              Counts   \n",
       "\n",
       "     Value  Source  \n",
       "15    15.0  GLOTIP  \n",
       "183    8.0  GLOTIP  \n",
       "187    8.0  GLOTIP  \n",
       "189    8.0  GLOTIP  \n",
       "207    8.0  GLOTIP  "
      ]
     },
     "execution_count": 307,
     "metadata": {},
     "output_type": "execute_result"
    }
   ],
   "source": [
    "trafficking.head()"
   ]
  },
  {
   "cell_type": "code",
   "execution_count": 308,
   "id": "063d4a6b",
   "metadata": {},
   "outputs": [
    {
     "name": "stdout",
     "output_type": "stream",
     "text": [
      "🔍 Missing values in filtered trafficking dataset:\n",
      "Iso3_code              0\n",
      "Country                0\n",
      "Region                 0\n",
      "Subregion              0\n",
      "Indicator              0\n",
      "Dimension              0\n",
      "Category               0\n",
      "Sex                    0\n",
      "Age                    0\n",
      "Year                   0\n",
      "Unit_of_measurement    0\n",
      "Value                  0\n",
      "Source                 0\n",
      "dtype: int64\n"
     ]
    }
   ],
   "source": [
    "# Check number of missing values in each column\n",
    "print(\"🔍 Missing values in filtered trafficking dataset:\")\n",
    "print(trafficking.isnull().sum())"
   ]
  },
  {
   "cell_type": "code",
   "execution_count": 309,
   "id": "e12dda12",
   "metadata": {},
   "outputs": [
    {
     "name": "stdout",
     "output_type": "stream",
     "text": [
      "Categories: ['Sexual exploitation']\n"
     ]
    }
   ],
   "source": [
    "print(\"Categories:\", trafficking['Category'].unique())"
   ]
  },
  {
   "cell_type": "code",
   "execution_count": 310,
   "id": "b30509ed",
   "metadata": {},
   "outputs": [
    {
     "data": {
      "text/plain": [
       "Index(['Iso3_code', 'Country', 'Region', 'Subregion', 'Indicator', 'Dimension',\n",
       "       'Category', 'Sex', 'Age', 'Year', 'Unit_of_measurement', 'Value',\n",
       "       'Source'],\n",
       "      dtype='object')"
      ]
     },
     "execution_count": 310,
     "metadata": {},
     "output_type": "execute_result"
    }
   ],
   "source": [
    "trafficking.columns"
   ]
  },
  {
   "cell_type": "code",
   "execution_count": 311,
   "id": "fb412e8f",
   "metadata": {},
   "outputs": [
    {
     "name": "stdout",
     "output_type": "stream",
     "text": [
      "📊 Trafficking summary (Sexual exploitation only):\n",
      "   Country  Year  Trafficking_cases\n",
      "0  Albania  2005               62.0\n",
      "1  Albania  2006               57.0\n",
      "2  Albania  2007                9.0\n",
      "3  Albania  2008              124.0\n",
      "4  Albania  2009              101.0\n"
     ]
    }
   ],
   "source": [
    "# ✅ Group by country and year to get total cases per combination\n",
    "trafficking_summary = trafficking.groupby(['Country', 'Year'])['Value'].sum().reset_index()\n",
    "\n",
    "# ✅ Rename column for clarity\n",
    "trafficking_summary.rename(columns={'Value': 'Trafficking_cases'}, inplace=True)\n",
    "\n",
    "# Preview result\n",
    "print(\"📊 Trafficking summary (Sexual exploitation only):\")\n",
    "print(trafficking_summary.head())\n"
   ]
  },
  {
   "cell_type": "code",
   "execution_count": 312,
   "id": "32bbc28a",
   "metadata": {},
   "outputs": [
    {
     "name": "stdout",
     "output_type": "stream",
     "text": [
      "🔍 Missing values in filtered and aggregated trafficking dataset:\n",
      "Country              0\n",
      "Year                 0\n",
      "Trafficking_cases    0\n",
      "dtype: int64\n"
     ]
    }
   ],
   "source": [
    "# Check number of missing values in each column\n",
    "print(\"🔍 Missing values in filtered and aggregated trafficking dataset:\")\n",
    "print(trafficking_summary.isnull().sum())"
   ]
  },
  {
   "cell_type": "code",
   "execution_count": 313,
   "id": "4808c8ea",
   "metadata": {},
   "outputs": [
    {
     "name": "stdout",
     "output_type": "stream",
     "text": [
      "Merged dataset shape: (14540, 14)\n",
      "Missing trafficking data after merge: 6504\n",
      "  Iso3_code   Country    Region         Subregion         Indicator  \\\n",
      "0       BEL   Belgium    Europe    Western Europe  Violent offences   \n",
      "1       BGR  Bulgaria    Europe    Eastern Europe  Violent offences   \n",
      "2       CAN    Canada  Americas  Northern America  Violent offences   \n",
      "3       CZE   Czechia    Europe    Eastern Europe  Violent offences   \n",
      "4       DEU   Germany    Europe    Western Europe  Violent offences   \n",
      "\n",
      "            Dimension         Category    Sex    Age  Year  \\\n",
      "0  by type of offence  Sexual violence  Total  Total  2003   \n",
      "1  by type of offence  Sexual violence  Total  Total  2003   \n",
      "2  by type of offence  Sexual violence  Total  Total  2003   \n",
      "3  by type of offence  Sexual violence  Total  Total  2003   \n",
      "4  by type of offence  Sexual violence  Total  Total  2003   \n",
      "\n",
      "  Unit_of_measurement    Value Source  Trafficking_cases  \n",
      "0              Counts   5565.0    CTS                NaN  \n",
      "1              Counts   1287.0    CTS                NaN  \n",
      "2              Counts  26128.0    CTS                NaN  \n",
      "3              Counts   1898.0    CTS                NaN  \n",
      "4              Counts  54632.0    CTS                NaN  \n"
     ]
    }
   ],
   "source": [
    "# ✅ Merge assault and trafficking data on country & year\n",
    "merged_trafficking = pd.merge(filtered_assault, trafficking_summary, on=['Country', 'Year'], how='left')\n",
    "\n",
    "# ✅ Check how many rows successfully merged\n",
    "print(\"Merged dataset shape:\", merged_trafficking.shape)\n",
    "print(\"Missing trafficking data after merge:\", merged_trafficking['Trafficking_cases'].isna().sum())\n",
    "\n",
    "# Preview merged data\n",
    "print(merged_trafficking.head())\n"
   ]
  },
  {
   "cell_type": "code",
   "execution_count": 314,
   "id": "04806819",
   "metadata": {},
   "outputs": [
    {
     "name": "stdout",
     "output_type": "stream",
     "text": [
      "Common countries: 115\n",
      "In assault only: ['Algeria', 'Andorra', 'Antigua and Barbuda', 'Belize', 'Bermuda', 'Bhutan', 'Botswana', 'Burundi', 'Cabo Verde', 'Cameroon', 'China, Hong Kong Special Administrative Region', 'China, Macao Special Administrative Region', 'Dominica', 'Eswatini', 'Grenada', 'Guinea-Bissau', 'Haiti', 'Holy See', 'India', 'Iraq (Central Iraq)', 'Kosovo under UNSCR 1244', 'Liechtenstein', 'Maldives', 'New Zealand', 'Puerto Rico', 'Republic of Korea', 'Saint Kitts and Nevis', 'Saint Lucia', 'Saint Vincent and the Grenadines', 'Sao Tome and Principe', 'Senegal', 'State of Palestine', 'Sudan', 'Syrian Arab Republic', 'Timor-Leste', 'Turkmenistan', 'United Kingdom (England and Wales)', 'United Kingdom (Northern Ireland)', 'United Kingdom (Scotland)', 'United Republic of Tanzania', 'Yemen', 'Zimbabwe']\n",
      "In trafficking only: ['Angola', 'Burkina Faso', 'Cambodia', 'China', 'Cuba', 'Democratic Republic of the Congo', 'Fiji', 'Gambia', 'Iraq', 'Liberia', 'Mali', 'Mauritania', 'Niger', 'Tunisia', 'United Kingdom of Great Britain and Northern Ireland', 'Viet Nam']\n"
     ]
    }
   ],
   "source": [
    "# Unique country names from both datasets\n",
    "assault_countries = set(filtered_assault['Country'].unique())\n",
    "trafficking_countries = set(trafficking_summary['Country'].unique())\n",
    "\n",
    "# Compare the two\n",
    "common = assault_countries & trafficking_countries\n",
    "assault_only = assault_countries - trafficking_countries\n",
    "trafficking_only = trafficking_countries - assault_countries\n",
    "\n",
    "print(\"Common countries:\", len(common))\n",
    "print(\"In assault only:\", sorted(assault_only))\n",
    "print(\"In trafficking only:\", sorted(trafficking_only))\n"
   ]
  },
  {
   "cell_type": "code",
   "execution_count": 315,
   "id": "a7dc336b",
   "metadata": {},
   "outputs": [
    {
     "name": "stdout",
     "output_type": "stream",
     "text": [
      "Re-merged dataset shape: (14540, 14)\n",
      "Missing trafficking data after country name fix: 6504\n"
     ]
    }
   ],
   "source": [
    "merged_trafficking = pd.merge(filtered_assault, trafficking_summary, on=['Country', 'Year'], how='left')\n",
    "print(\"Re-merged dataset shape:\", merged_trafficking.shape)\n",
    "print(\"Missing trafficking data after country name fix:\", merged_trafficking['Trafficking_cases'].isna().sum())\n"
   ]
  },
  {
   "cell_type": "code",
   "execution_count": 316,
   "id": "38bc02b9",
   "metadata": {},
   "outputs": [
    {
     "name": "stdout",
     "output_type": "stream",
     "text": [
      "['Albania', 'Angola', 'Argentina', 'Armenia', 'Australia', 'Austria', 'Azerbaijan', 'Bahamas', 'Bahrain', 'Bangladesh', 'Barbados', 'Belarus', 'Belgium', 'Benin', 'Bolivia (Plurinational State of)', 'Bosnia and Herzegovina', 'Brazil', 'Brunei Darussalam', 'Bulgaria', 'Burkina Faso', 'Cambodia', 'Canada', 'Chile', 'China', 'Colombia', 'Costa Rica', 'Croatia', 'Cuba', 'Cyprus', 'Czechia', 'Côte d’Ivoire', 'Democratic Republic of the Congo', 'Denmark', 'Dominican Republic', 'Ecuador', 'Egypt', 'El Salvador', 'Estonia', 'Fiji', 'Finland', 'France', 'Gambia', 'Georgia', 'Germany', 'Ghana', 'Greece', 'Guatemala', 'Guinea', 'Guyana', 'Honduras', 'Hungary', 'Iceland', 'Indonesia', 'Iraq', 'Ireland', 'Israel', 'Italy', 'Jamaica', 'Japan', 'Jordan', 'Kazakhstan', 'Kenya', 'Kuwait', 'Kyrgyzstan', 'Latvia', 'Lebanon', 'Lesotho', 'Liberia', 'Lithuania', 'Luxembourg', 'Madagascar', 'Malaysia', 'Mali', 'Malta', 'Mauritania', 'Mauritius', 'Mexico', 'Monaco', 'Mongolia', 'Montenegro', 'Morocco', 'Mozambique', 'Myanmar', 'Namibia', 'Nepal', 'Netherlands (Kingdom of the)', 'Nicaragua', 'Niger', 'Nigeria', 'North Macedonia', 'Norway', 'Oman', 'Pakistan', 'Panama', 'Paraguay', 'Peru', 'Philippines', 'Poland', 'Portugal', 'Qatar', 'Republic of Moldova', 'Romania', 'Russian Federation', 'Rwanda', 'Saudi Arabia', 'Serbia', 'Sierra Leone', 'Singapore', 'Slovakia', 'Slovenia', 'Solomon Islands', 'South Africa', 'Spain', 'Sri Lanka', 'Suriname', 'Sweden', 'Switzerland', 'Tajikistan', 'Thailand', 'Trinidad and Tobago', 'Tunisia', 'Türkiye', 'Uganda', 'Ukraine', 'United Arab Emirates', 'United Kingdom of Great Britain and Northern Ireland', 'United States of America', 'Uruguay', 'Uzbekistan', 'Venezuela (Bolivarian Republic of)', 'Viet Nam']\n"
     ]
    }
   ],
   "source": [
    "print(sorted(trafficking_summary['Country'].unique()))\n"
   ]
  },
  {
   "cell_type": "code",
   "execution_count": 317,
   "id": "64ff9c7a",
   "metadata": {},
   "outputs": [
    {
     "name": "stdout",
     "output_type": "stream",
     "text": [
      "['Albania', 'Algeria', 'Andorra', 'Antigua and Barbuda', 'Argentina', 'Armenia', 'Australia', 'Austria', 'Azerbaijan', 'Bahamas', 'Bahrain', 'Bangladesh', 'Barbados', 'Belarus', 'Belgium', 'Belize', 'Benin', 'Bermuda', 'Bhutan', 'Bolivia (Plurinational State of)', 'Bosnia and Herzegovina', 'Botswana', 'Brazil', 'Brunei Darussalam', 'Bulgaria', 'Burundi', 'Cabo Verde', 'Cameroon', 'Canada', 'Chile', 'China, Hong Kong Special Administrative Region', 'China, Macao Special Administrative Region', 'Colombia', 'Costa Rica', 'Croatia', 'Cyprus', 'Czechia', 'Côte d’Ivoire', 'Denmark', 'Dominica', 'Dominican Republic', 'Ecuador', 'Egypt', 'El Salvador', 'Estonia', 'Eswatini', 'Finland', 'France', 'Georgia', 'Germany', 'Ghana', 'Greece', 'Grenada', 'Guatemala', 'Guinea', 'Guinea-Bissau', 'Guyana', 'Haiti', 'Holy See', 'Honduras', 'Hungary', 'Iceland', 'India', 'Indonesia', 'Iraq (Central Iraq)', 'Ireland', 'Israel', 'Italy', 'Jamaica', 'Japan', 'Jordan', 'Kazakhstan', 'Kenya', 'Kosovo under UNSCR 1244', 'Kuwait', 'Kyrgyzstan', 'Latvia', 'Lebanon', 'Lesotho', 'Liechtenstein', 'Lithuania', 'Luxembourg', 'Madagascar', 'Malaysia', 'Maldives', 'Malta', 'Mauritius', 'Mexico', 'Monaco', 'Mongolia', 'Montenegro', 'Morocco', 'Mozambique', 'Myanmar', 'Namibia', 'Nepal', 'Netherlands (Kingdom of the)', 'New Zealand', 'Nicaragua', 'Nigeria', 'North Macedonia', 'Norway', 'Oman', 'Pakistan', 'Panama', 'Paraguay', 'Peru', 'Philippines', 'Poland', 'Portugal', 'Puerto Rico', 'Qatar', 'Republic of Korea', 'Republic of Moldova', 'Romania', 'Russian Federation', 'Rwanda', 'Saint Kitts and Nevis', 'Saint Lucia', 'Saint Vincent and the Grenadines', 'Sao Tome and Principe', 'Saudi Arabia', 'Senegal', 'Serbia', 'Sierra Leone', 'Singapore', 'Slovakia', 'Slovenia', 'Solomon Islands', 'South Africa', 'Spain', 'Sri Lanka', 'State of Palestine', 'Sudan', 'Suriname', 'Sweden', 'Switzerland', 'Syrian Arab Republic', 'Tajikistan', 'Thailand', 'Timor-Leste', 'Trinidad and Tobago', 'Turkmenistan', 'Türkiye', 'Uganda', 'Ukraine', 'United Arab Emirates', 'United Kingdom (England and Wales)', 'United Kingdom (Northern Ireland)', 'United Kingdom (Scotland)', 'United Republic of Tanzania', 'United States of America', 'Uruguay', 'Uzbekistan', 'Venezuela (Bolivarian Republic of)', 'Yemen', 'Zimbabwe']\n"
     ]
    }
   ],
   "source": [
    "print(sorted(filtered_assault['Country'].unique()))\n"
   ]
  },
  {
   "cell_type": "code",
   "execution_count": 318,
   "id": "f334f7b0",
   "metadata": {},
   "outputs": [
    {
     "name": "stdout",
     "output_type": "stream",
     "text": [
      "Unmatched (Country, Year) pairs: 1188\n",
      "[('Solomon Islands', 2007), ('United Kingdom (England and Wales)', 2003), ('Senegal', 2006), ('China, Macao Special Administrative Region', 2018), ('United Kingdom (England and Wales)', 2012), ('Uganda', 2015), ('Senegal', 2015), ('Romania', 2003), ('United Kingdom (England and Wales)', 2021), ('Thailand', 2010)]\n"
     ]
    }
   ],
   "source": [
    "# Get all country-year pairs in filtered_assault\n",
    "assault_pairs = set(zip(filtered_assault['Country'], filtered_assault['Year']))\n",
    "\n",
    "# Get all country-year pairs in trafficking_summary\n",
    "trafficking_pairs = set(zip(trafficking_summary['Country'], trafficking_summary['Year']))\n",
    "\n",
    "# Find which country-year pairs exist in assault but not in trafficking\n",
    "unmatched_pairs = assault_pairs - trafficking_pairs\n",
    "\n",
    "print(f\"Unmatched (Country, Year) pairs: {len(unmatched_pairs)}\")\n",
    "print(list(unmatched_pairs)[:10])  # Show a sample\n"
   ]
  },
  {
   "cell_type": "code",
   "execution_count": 319,
   "id": "b81bb747",
   "metadata": {},
   "outputs": [
    {
     "name": "stdout",
     "output_type": "stream",
     "text": [
      "Final cleaned dataset for modeling: (8036, 14)\n"
     ]
    },
    {
     "data": {
      "text/html": [
       "<div>\n",
       "<style scoped>\n",
       "    .dataframe tbody tr th:only-of-type {\n",
       "        vertical-align: middle;\n",
       "    }\n",
       "\n",
       "    .dataframe tbody tr th {\n",
       "        vertical-align: top;\n",
       "    }\n",
       "\n",
       "    .dataframe thead th {\n",
       "        text-align: right;\n",
       "    }\n",
       "</style>\n",
       "<table border=\"1\" class=\"dataframe\">\n",
       "  <thead>\n",
       "    <tr style=\"text-align: right;\">\n",
       "      <th></th>\n",
       "      <th>Iso3_code</th>\n",
       "      <th>Country</th>\n",
       "      <th>Region</th>\n",
       "      <th>Subregion</th>\n",
       "      <th>Indicator</th>\n",
       "      <th>Dimension</th>\n",
       "      <th>Category</th>\n",
       "      <th>Sex</th>\n",
       "      <th>Age</th>\n",
       "      <th>Year</th>\n",
       "      <th>Unit_of_measurement</th>\n",
       "      <th>Value</th>\n",
       "      <th>Source</th>\n",
       "      <th>Trafficking_cases</th>\n",
       "    </tr>\n",
       "  </thead>\n",
       "  <tbody>\n",
       "    <tr>\n",
       "      <th>30</th>\n",
       "      <td>BLR</td>\n",
       "      <td>Belarus</td>\n",
       "      <td>Europe</td>\n",
       "      <td>Eastern Europe</td>\n",
       "      <td>Violent offences</td>\n",
       "      <td>by type of offence</td>\n",
       "      <td>Sexual violence</td>\n",
       "      <td>Total</td>\n",
       "      <td>Total</td>\n",
       "      <td>2004</td>\n",
       "      <td>Counts</td>\n",
       "      <td>775.0</td>\n",
       "      <td>CTS</td>\n",
       "      <td>400.0</td>\n",
       "    </tr>\n",
       "    <tr>\n",
       "      <th>47</th>\n",
       "      <td>HRV</td>\n",
       "      <td>Croatia</td>\n",
       "      <td>Europe</td>\n",
       "      <td>Southern Europe</td>\n",
       "      <td>Violent offences</td>\n",
       "      <td>by type of offence</td>\n",
       "      <td>Sexual violence</td>\n",
       "      <td>Total</td>\n",
       "      <td>Total</td>\n",
       "      <td>2004</td>\n",
       "      <td>Counts</td>\n",
       "      <td>485.0</td>\n",
       "      <td>CTS</td>\n",
       "      <td>14.0</td>\n",
       "    </tr>\n",
       "    <tr>\n",
       "      <th>75</th>\n",
       "      <td>ALB</td>\n",
       "      <td>Albania</td>\n",
       "      <td>Europe</td>\n",
       "      <td>Southern Europe</td>\n",
       "      <td>Violent offences</td>\n",
       "      <td>by type of offence</td>\n",
       "      <td>Sexual violence</td>\n",
       "      <td>Total</td>\n",
       "      <td>Total</td>\n",
       "      <td>2005</td>\n",
       "      <td>Counts</td>\n",
       "      <td>89.0</td>\n",
       "      <td>CTS</td>\n",
       "      <td>62.0</td>\n",
       "    </tr>\n",
       "    <tr>\n",
       "      <th>78</th>\n",
       "      <td>BEL</td>\n",
       "      <td>Belgium</td>\n",
       "      <td>Europe</td>\n",
       "      <td>Western Europe</td>\n",
       "      <td>Violent offences</td>\n",
       "      <td>by type of offence</td>\n",
       "      <td>Sexual violence</td>\n",
       "      <td>Total</td>\n",
       "      <td>Total</td>\n",
       "      <td>2005</td>\n",
       "      <td>Counts</td>\n",
       "      <td>6047.0</td>\n",
       "      <td>CTS</td>\n",
       "      <td>69.0</td>\n",
       "    </tr>\n",
       "    <tr>\n",
       "      <th>81</th>\n",
       "      <td>BLR</td>\n",
       "      <td>Belarus</td>\n",
       "      <td>Europe</td>\n",
       "      <td>Eastern Europe</td>\n",
       "      <td>Violent offences</td>\n",
       "      <td>by type of offence</td>\n",
       "      <td>Sexual violence</td>\n",
       "      <td>Total</td>\n",
       "      <td>Total</td>\n",
       "      <td>2005</td>\n",
       "      <td>Counts</td>\n",
       "      <td>819.0</td>\n",
       "      <td>CTS</td>\n",
       "      <td>365.0</td>\n",
       "    </tr>\n",
       "  </tbody>\n",
       "</table>\n",
       "</div>"
      ],
      "text/plain": [
       "   Iso3_code  Country  Region        Subregion         Indicator  \\\n",
       "30       BLR  Belarus  Europe   Eastern Europe  Violent offences   \n",
       "47       HRV  Croatia  Europe  Southern Europe  Violent offences   \n",
       "75       ALB  Albania  Europe  Southern Europe  Violent offences   \n",
       "78       BEL  Belgium  Europe   Western Europe  Violent offences   \n",
       "81       BLR  Belarus  Europe   Eastern Europe  Violent offences   \n",
       "\n",
       "             Dimension         Category    Sex    Age  Year  \\\n",
       "30  by type of offence  Sexual violence  Total  Total  2004   \n",
       "47  by type of offence  Sexual violence  Total  Total  2004   \n",
       "75  by type of offence  Sexual violence  Total  Total  2005   \n",
       "78  by type of offence  Sexual violence  Total  Total  2005   \n",
       "81  by type of offence  Sexual violence  Total  Total  2005   \n",
       "\n",
       "   Unit_of_measurement   Value Source  Trafficking_cases  \n",
       "30              Counts   775.0    CTS              400.0  \n",
       "47              Counts   485.0    CTS               14.0  \n",
       "75              Counts    89.0    CTS               62.0  \n",
       "78              Counts  6047.0    CTS               69.0  \n",
       "81              Counts   819.0    CTS              365.0  "
      ]
     },
     "execution_count": 319,
     "metadata": {},
     "output_type": "execute_result"
    }
   ],
   "source": [
    "# ✅ Keep only rows with known trafficking data\n",
    "merged_clean = merged_trafficking.dropna(subset=['Trafficking_cases'])\n",
    "\n",
    "# 🧾 Check shape\n",
    "print(\"Final cleaned dataset for modeling:\", merged_clean.shape)\n",
    "\n",
    "# Preview\n",
    "merged_clean.head()\n"
   ]
  },
  {
   "cell_type": "markdown",
   "id": "ea37ec38",
   "metadata": {},
   "source": [
    "### **Exlanatory Data Analysis**"
   ]
  },
  {
   "cell_type": "code",
   "execution_count": 320,
   "id": "7b58f856",
   "metadata": {},
   "outputs": [
    {
     "name": "stdout",
     "output_type": "stream",
     "text": [
      "Dataset shape: (8036, 14)\n",
      "\n",
      " Column info:\n",
      "<class 'pandas.core.frame.DataFrame'>\n",
      "Index: 8036 entries, 30 to 14539\n",
      "Data columns (total 14 columns):\n",
      " #   Column               Non-Null Count  Dtype  \n",
      "---  ------               --------------  -----  \n",
      " 0   Iso3_code            8036 non-null   object \n",
      " 1   Country              8036 non-null   object \n",
      " 2   Region               8036 non-null   object \n",
      " 3   Subregion            8036 non-null   object \n",
      " 4   Indicator            8036 non-null   object \n",
      " 5   Dimension            8036 non-null   object \n",
      " 6   Category             8036 non-null   object \n",
      " 7   Sex                  8036 non-null   object \n",
      " 8   Age                  8036 non-null   object \n",
      " 9   Year                 8036 non-null   int64  \n",
      " 10  Unit_of_measurement  8036 non-null   object \n",
      " 11  Value                8036 non-null   float64\n",
      " 12  Source               8036 non-null   object \n",
      " 13  Trafficking_cases    8036 non-null   float64\n",
      "dtypes: float64(2), int64(1), object(11)\n",
      "memory usage: 941.7+ KB\n",
      "None\n",
      "\n",
      " Sample rows:\n"
     ]
    },
    {
     "data": {
      "text/html": [
       "<div>\n",
       "<style scoped>\n",
       "    .dataframe tbody tr th:only-of-type {\n",
       "        vertical-align: middle;\n",
       "    }\n",
       "\n",
       "    .dataframe tbody tr th {\n",
       "        vertical-align: top;\n",
       "    }\n",
       "\n",
       "    .dataframe thead th {\n",
       "        text-align: right;\n",
       "    }\n",
       "</style>\n",
       "<table border=\"1\" class=\"dataframe\">\n",
       "  <thead>\n",
       "    <tr style=\"text-align: right;\">\n",
       "      <th></th>\n",
       "      <th>Iso3_code</th>\n",
       "      <th>Country</th>\n",
       "      <th>Region</th>\n",
       "      <th>Subregion</th>\n",
       "      <th>Indicator</th>\n",
       "      <th>Dimension</th>\n",
       "      <th>Category</th>\n",
       "      <th>Sex</th>\n",
       "      <th>Age</th>\n",
       "      <th>Year</th>\n",
       "      <th>Unit_of_measurement</th>\n",
       "      <th>Value</th>\n",
       "      <th>Source</th>\n",
       "      <th>Trafficking_cases</th>\n",
       "    </tr>\n",
       "  </thead>\n",
       "  <tbody>\n",
       "    <tr>\n",
       "      <th>30</th>\n",
       "      <td>BLR</td>\n",
       "      <td>Belarus</td>\n",
       "      <td>Europe</td>\n",
       "      <td>Eastern Europe</td>\n",
       "      <td>Violent offences</td>\n",
       "      <td>by type of offence</td>\n",
       "      <td>Sexual violence</td>\n",
       "      <td>Total</td>\n",
       "      <td>Total</td>\n",
       "      <td>2004</td>\n",
       "      <td>Counts</td>\n",
       "      <td>775.0</td>\n",
       "      <td>CTS</td>\n",
       "      <td>400.0</td>\n",
       "    </tr>\n",
       "    <tr>\n",
       "      <th>47</th>\n",
       "      <td>HRV</td>\n",
       "      <td>Croatia</td>\n",
       "      <td>Europe</td>\n",
       "      <td>Southern Europe</td>\n",
       "      <td>Violent offences</td>\n",
       "      <td>by type of offence</td>\n",
       "      <td>Sexual violence</td>\n",
       "      <td>Total</td>\n",
       "      <td>Total</td>\n",
       "      <td>2004</td>\n",
       "      <td>Counts</td>\n",
       "      <td>485.0</td>\n",
       "      <td>CTS</td>\n",
       "      <td>14.0</td>\n",
       "    </tr>\n",
       "    <tr>\n",
       "      <th>75</th>\n",
       "      <td>ALB</td>\n",
       "      <td>Albania</td>\n",
       "      <td>Europe</td>\n",
       "      <td>Southern Europe</td>\n",
       "      <td>Violent offences</td>\n",
       "      <td>by type of offence</td>\n",
       "      <td>Sexual violence</td>\n",
       "      <td>Total</td>\n",
       "      <td>Total</td>\n",
       "      <td>2005</td>\n",
       "      <td>Counts</td>\n",
       "      <td>89.0</td>\n",
       "      <td>CTS</td>\n",
       "      <td>62.0</td>\n",
       "    </tr>\n",
       "    <tr>\n",
       "      <th>78</th>\n",
       "      <td>BEL</td>\n",
       "      <td>Belgium</td>\n",
       "      <td>Europe</td>\n",
       "      <td>Western Europe</td>\n",
       "      <td>Violent offences</td>\n",
       "      <td>by type of offence</td>\n",
       "      <td>Sexual violence</td>\n",
       "      <td>Total</td>\n",
       "      <td>Total</td>\n",
       "      <td>2005</td>\n",
       "      <td>Counts</td>\n",
       "      <td>6047.0</td>\n",
       "      <td>CTS</td>\n",
       "      <td>69.0</td>\n",
       "    </tr>\n",
       "    <tr>\n",
       "      <th>81</th>\n",
       "      <td>BLR</td>\n",
       "      <td>Belarus</td>\n",
       "      <td>Europe</td>\n",
       "      <td>Eastern Europe</td>\n",
       "      <td>Violent offences</td>\n",
       "      <td>by type of offence</td>\n",
       "      <td>Sexual violence</td>\n",
       "      <td>Total</td>\n",
       "      <td>Total</td>\n",
       "      <td>2005</td>\n",
       "      <td>Counts</td>\n",
       "      <td>819.0</td>\n",
       "      <td>CTS</td>\n",
       "      <td>365.0</td>\n",
       "    </tr>\n",
       "  </tbody>\n",
       "</table>\n",
       "</div>"
      ],
      "text/plain": [
       "   Iso3_code  Country  Region        Subregion         Indicator  \\\n",
       "30       BLR  Belarus  Europe   Eastern Europe  Violent offences   \n",
       "47       HRV  Croatia  Europe  Southern Europe  Violent offences   \n",
       "75       ALB  Albania  Europe  Southern Europe  Violent offences   \n",
       "78       BEL  Belgium  Europe   Western Europe  Violent offences   \n",
       "81       BLR  Belarus  Europe   Eastern Europe  Violent offences   \n",
       "\n",
       "             Dimension         Category    Sex    Age  Year  \\\n",
       "30  by type of offence  Sexual violence  Total  Total  2004   \n",
       "47  by type of offence  Sexual violence  Total  Total  2004   \n",
       "75  by type of offence  Sexual violence  Total  Total  2005   \n",
       "78  by type of offence  Sexual violence  Total  Total  2005   \n",
       "81  by type of offence  Sexual violence  Total  Total  2005   \n",
       "\n",
       "   Unit_of_measurement   Value Source  Trafficking_cases  \n",
       "30              Counts   775.0    CTS              400.0  \n",
       "47              Counts   485.0    CTS               14.0  \n",
       "75              Counts    89.0    CTS               62.0  \n",
       "78              Counts  6047.0    CTS               69.0  \n",
       "81              Counts   819.0    CTS              365.0  "
      ]
     },
     "metadata": {},
     "output_type": "display_data"
    }
   ],
   "source": [
    "# View dataset structure\n",
    "print(\"Dataset shape:\", merged_clean.shape)\n",
    "print(\"\\n Column info:\")\n",
    "print(merged_clean.info())\n",
    "\n",
    "# First few rows\n",
    "print(\"\\n Sample rows:\")\n",
    "display(merged_clean.head())\n"
   ]
  },
  {
   "cell_type": "code",
   "execution_count": 321,
   "id": "d4c81df5",
   "metadata": {},
   "outputs": [
    {
     "name": "stdout",
     "output_type": "stream",
     "text": [
      "Missing values per column:\n",
      "Iso3_code              0\n",
      "Country                0\n",
      "Region                 0\n",
      "Subregion              0\n",
      "Indicator              0\n",
      "Dimension              0\n",
      "Category               0\n",
      "Sex                    0\n",
      "Age                    0\n",
      "Year                   0\n",
      "Unit_of_measurement    0\n",
      "Value                  0\n",
      "Source                 0\n",
      "Trafficking_cases      0\n",
      "dtype: int64\n"
     ]
    }
   ],
   "source": [
    "# Check for missing data (if any slipped through)\n",
    "print(\"Missing values per column:\")\n",
    "print(merged_clean.isna().sum())\n"
   ]
  },
  {
   "cell_type": "code",
   "execution_count": 322,
   "id": "b9c714a0",
   "metadata": {},
   "outputs": [
    {
     "name": "stdout",
     "output_type": "stream",
     "text": [
      "Summary stats:\n",
      "              Year          Value  Trafficking_cases\n",
      "count  8036.000000    8036.000000        8036.000000\n",
      "mean   2016.464659    1659.355550         260.271777\n",
      "std       4.083128    6742.852017         437.728192\n",
      "min    2003.000000       0.000000           5.000000\n",
      "25%    2014.000000       4.068948          28.000000\n",
      "50%    2017.000000      31.133420          84.000000\n",
      "75%    2020.000000     473.000000         273.000000\n",
      "max    2022.000000  143765.000000        3969.000000\n"
     ]
    }
   ],
   "source": [
    "# Descriptive stats for numerical columns\n",
    "print(\"Summary stats:\")\n",
    "print(merged_clean.describe())\n"
   ]
  },
  {
   "cell_type": "code",
   "execution_count": 323,
   "id": "363e9acc",
   "metadata": {},
   "outputs": [
    {
     "name": "stderr",
     "output_type": "stream",
     "text": [
      "C:\\Users\\Admin\\AppData\\Local\\Temp\\ipykernel_12480\\2007929010.py:5: FutureWarning: \n",
      "\n",
      "Passing `palette` without assigning `hue` is deprecated and will be removed in v0.14.0. Assign the `y` variable to `hue` and set `legend=False` for the same effect.\n",
      "\n",
      "  sns.barplot(x=top_countries.values, y=top_countries.index, palette='magma')\n"
     ]
    },
    {
     "data": {
      "image/png": "[encoded data removed]",
      "text/plain": [
       "<Figure size 1000x600 with 1 Axes>"
      ]
     },
     "metadata": {},
     "output_type": "display_data"
    }
   ],
   "source": [
    "# 📊 Top 15 Countries by Average Sexual Violence Cases \n",
    "top_countries = merged_clean.groupby('Country')['Value'].mean().sort_values(ascending=False).head(15)\n",
    "\n",
    "plt.figure(figsize=(10, 6))\n",
    "sns.barplot(x=top_countries.values, y=top_countries.index, palette='magma')\n",
    "\n",
    "# 📍 Add value labels\n",
    "for index, value in enumerate(top_countries.values):\n",
    "    plt.text(value + 50, index, f'{int(value):,}', va='center')\n",
    "\n",
    "# 🖼️ Improved title and labels\n",
    "plt.title('Top 15 Countries by Avg. Sexual Violence Cases per Year', fontsize=14, weight='bold')\n",
    "plt.xlabel('Average Cases per Year')\n",
    "plt.ylabel('Country')\n",
    "\n",
    "# 📐 Clean grid\n",
    "plt.grid(axis='x', linestyle='--', alpha=0.7)\n",
    "plt.tight_layout()\n",
    "plt.show()\n"
   ]
  },
  {
   "cell_type": "code",
   "execution_count": 324,
   "id": "b7416156",
   "metadata": {},
   "outputs": [],
   "source": [
    "#import matplotlib.ticker as mtick\n",
    "\n",
    "#plt.figure(figsize=(12, 6))\n",
    "#sns.lineplot(\n",
    "#    data=merged_clean,\n",
    "#    x='Year',\n",
    "#    y='Value',\n",
    "#    estimator='sum',\n",
    "#    ci=None,\n",
    "#    color='purple',\n",
    "#    marker='o'\n",
    "#)\n",
    "\n",
    "# 🔧 Format y-axis to use comma-separated full numbers\n",
    "#plt.gca().yaxis.set_major_formatter(mtick.FuncFormatter(lambda x, _: f'{int(x):,}'))\n",
    "\n",
    "# 📅 Remove decimal from x-axis\n",
    "#plt.gca().xaxis.set_major_locator(ticker.MaxNLocator(integer=True))\n",
    "\n",
    "#plt.title('Total Sexual Violence Cases Reported Over Time', fontsize=14, weight='bold')\n",
    "#plt.xlabel('Year')\n",
    "#plt.ylabel('Total Cases')\n",
    "#plt.grid(True, linestyle='--', alpha=0.7)\n",
    "#plt.tight_layout()\n",
    "#plt.show()\n"
   ]
  },
  {
   "cell_type": "code",
   "execution_count": 325,
   "id": "ba74837a",
   "metadata": {},
   "outputs": [
    {
     "data": {
      "image/png": "[encoded data removed]",
      "text/plain": [
       "<Figure size 1000x600 with 1 Axes>"
      ]
     },
     "metadata": {},
     "output_type": "display_data"
    }
   ],
   "source": [
    "from scipy.stats import pearsonr\n",
    "\n",
    "# Drop NaNs\n",
    "scatter_data = merged_clean.dropna(subset=['Value', 'Trafficking_cases'])\n",
    "\n",
    "\n",
    "# Calculate correlation\n",
    "corr, _ = pearsonr(scatter_data['Value'], scatter_data['Trafficking_cases'])\n",
    "\n",
    "plt.figure(figsize=(10, 6))\n",
    "sns.regplot(\n",
    "    data=scatter_data,\n",
    "    x='Trafficking_cases',\n",
    "    y='Value',\n",
    "    scatter_kws={'alpha': 0.4}, \n",
    "    line_kws={'color': 'purple'},\n",
    "    color='steelblue'\n",
    ")\n",
    "\n",
    "plt.title(f'Sexual Violence vs. Trafficking Cases\\nCorrelation: {corr:.2f}', fontsize=14, weight='bold')\n",
    "plt.xlabel('Trafficking Cases')\n",
    "plt.ylabel('Sexual Violence Cases')\n",
    "plt.tight_layout()\n",
    "plt.grid(True)\n",
    "plt.show()\n"
   ]
  },
  {
   "cell_type": "code",
   "execution_count": 326,
   "id": "a5b61bf5",
   "metadata": {},
   "outputs": [
    {
     "data": {
      "image/png": "[encoded data removed]",
      "text/plain": [
       "<Figure size 600x600 with 1 Axes>"
      ]
     },
     "metadata": {},
     "output_type": "display_data"
    }
   ],
   "source": [
    "# 📊 Filter to keep only Male and Female (excluding 'Total')\n",
    "sex_breakdown = merged_clean[merged_clean['Sex'].isin(['Male', 'Female'])].groupby('Sex')['Value'].sum()\n",
    "\n",
    "# ✅ Reorder to match desired color assignment (Male: blue, Female: purple)\n",
    "sex_breakdown = sex_breakdown.reindex(['Male', 'Female'])\n",
    "\n",
    "# 🎨 Updated color list to match order\n",
    "colors = ['#003f5c', '#6a0572']  # Blue for Male, Purple for Female\n",
    "\n",
    "# 🏷️ Labels with percentage formatting\n",
    "total = sex_breakdown.sum()\n",
    "labels = [f'{sex} ({value/total:.1%})' for sex, value in sex_breakdown.items()]\n",
    "\n",
    "# 📈 Donut Chart\n",
    "plt.figure(figsize=(6, 6))\n",
    "plt.pie(\n",
    "    sex_breakdown,\n",
    "    labels=labels,\n",
    "    colors=colors,\n",
    "    startangle=90,\n",
    "    counterclock=False,\n",
    "    wedgeprops=dict(width=0.4)\n",
    ")\n",
    "\n",
    "# 🖼️ Title\n",
    "plt.title('Gender Distribution of Victims', fontsize=13, weight='bold')\n",
    "plt.tight_layout()\n",
    "plt.show()\n"
   ]
  },
  {
   "cell_type": "code",
   "execution_count": 327,
   "id": "ad734944",
   "metadata": {},
   "outputs": [
    {
     "data": {
      "image/png": "[encoded data removed]",
      "text/plain": [
       "<Figure size 1000x600 with 1 Axes>"
      ]
     },
     "metadata": {},
     "output_type": "display_data"
    }
   ],
   "source": [
    "# Group by Category and sum cases\n",
    "top_categories = (\n",
    "    merged_clean.groupby('Category')['Value']\n",
    "    .sum()\n",
    "    .sort_values(ascending=False)\n",
    "    .head(10)\n",
    ")\n",
    "\n",
    "# Reverse so largest appears at top\n",
    "top_categories = top_categories[::-1]\n",
    "\n",
    "plt.figure(figsize=(10, 6))\n",
    "\n",
    "# Draw the lines\n",
    "plt.hlines(\n",
    "    y=top_categories.index,\n",
    "    xmin=0,\n",
    "    xmax=top_categories.values,\n",
    "    color='purple',\n",
    "    linewidth=2\n",
    ")\n",
    "\n",
    "# Draw the pink dots\n",
    "plt.plot(\n",
    "    top_categories.values,\n",
    "    top_categories.index,\n",
    "    \"o\",\n",
    "    markersize=8,\n",
    "    color='deeppink'\n",
    ")\n",
    "\n",
    "# Annotate the values slightly to the right (~0.1 cm ≈ 4 pts)\n",
    "for value, y in zip(top_categories.values, top_categories.index):\n",
    "    plt.annotate(\n",
    "        f\"{int(value):,}\",\n",
    "        xy=(value, y),\n",
    "        xytext=(4, 0),  # 4 points to the right\n",
    "        textcoords='offset points',\n",
    "        va='center',\n",
    "        fontsize=10\n",
    "    )\n",
    "\n",
    "# Titles and labels\n",
    "plt.title(\"Top 10 Sexual Violence Categories by Reported Cases\", fontsize=14, weight='bold')\n",
    "plt.xlabel(\"Total Cases\", fontsize=11)\n",
    "plt.ylabel(\"Category\", fontsize=11)\n",
    "\n",
    "# Clean up x-axis formatting\n",
    "plt.ticklabel_format(style='plain', axis='x')  # Avoid scientific notation\n",
    "plt.xticks(ticks=plt.xticks()[0], labels=[f\"{int(x):,}\" for x in plt.xticks()[0]])\n",
    "plt.xlim(left=0)  # Remove -1,000,000 from x-axis\n",
    "\n",
    "# Remove right border\n",
    "plt.gca().spines['right'].set_visible(False)\n",
    "\n",
    "plt.tight_layout()\n",
    "plt.show()\n"
   ]
  },
  {
   "cell_type": "markdown",
   "id": "a909c727",
   "metadata": {},
   "source": [
    "### Data Preprocessing"
   ]
  },
  {
   "cell_type": "code",
   "execution_count": 328,
   "id": "290b8f8a",
   "metadata": {},
   "outputs": [
    {
     "data": {
      "text/plain": [
       "Index(['Iso3_code', 'Country', 'Region', 'Subregion', 'Indicator', 'Dimension',\n",
       "       'Category', 'Sex', 'Age', 'Year', 'Unit_of_measurement', 'Value',\n",
       "       'Source', 'Trafficking_cases'],\n",
       "      dtype='object')"
      ]
     },
     "execution_count": 328,
     "metadata": {},
     "output_type": "execute_result"
    }
   ],
   "source": [
    "merged_clean.columns\n"
   ]
  },
  {
   "cell_type": "code",
   "execution_count": 329,
   "id": "147f2cc3",
   "metadata": {},
   "outputs": [
    {
     "data": {
      "text/html": [
       "<div>\n",
       "<style scoped>\n",
       "    .dataframe tbody tr th:only-of-type {\n",
       "        vertical-align: middle;\n",
       "    }\n",
       "\n",
       "    .dataframe tbody tr th {\n",
       "        vertical-align: top;\n",
       "    }\n",
       "\n",
       "    .dataframe thead th {\n",
       "        text-align: right;\n",
       "    }\n",
       "</style>\n",
       "<table border=\"1\" class=\"dataframe\">\n",
       "  <thead>\n",
       "    <tr style=\"text-align: right;\">\n",
       "      <th></th>\n",
       "      <th>Iso3_code</th>\n",
       "      <th>Country</th>\n",
       "      <th>Region</th>\n",
       "      <th>Subregion</th>\n",
       "      <th>Indicator</th>\n",
       "      <th>Dimension</th>\n",
       "      <th>Category</th>\n",
       "      <th>Sex</th>\n",
       "      <th>Age</th>\n",
       "      <th>Year</th>\n",
       "      <th>Unit_of_measurement</th>\n",
       "      <th>Value</th>\n",
       "      <th>Source</th>\n",
       "      <th>Trafficking_cases</th>\n",
       "    </tr>\n",
       "  </thead>\n",
       "  <tbody>\n",
       "    <tr>\n",
       "      <th>30</th>\n",
       "      <td>BLR</td>\n",
       "      <td>Belarus</td>\n",
       "      <td>Europe</td>\n",
       "      <td>Eastern Europe</td>\n",
       "      <td>Violent offences</td>\n",
       "      <td>by type of offence</td>\n",
       "      <td>Sexual violence</td>\n",
       "      <td>Total</td>\n",
       "      <td>Total</td>\n",
       "      <td>2004</td>\n",
       "      <td>Counts</td>\n",
       "      <td>775.0</td>\n",
       "      <td>CTS</td>\n",
       "      <td>400.0</td>\n",
       "    </tr>\n",
       "    <tr>\n",
       "      <th>47</th>\n",
       "      <td>HRV</td>\n",
       "      <td>Croatia</td>\n",
       "      <td>Europe</td>\n",
       "      <td>Southern Europe</td>\n",
       "      <td>Violent offences</td>\n",
       "      <td>by type of offence</td>\n",
       "      <td>Sexual violence</td>\n",
       "      <td>Total</td>\n",
       "      <td>Total</td>\n",
       "      <td>2004</td>\n",
       "      <td>Counts</td>\n",
       "      <td>485.0</td>\n",
       "      <td>CTS</td>\n",
       "      <td>14.0</td>\n",
       "    </tr>\n",
       "    <tr>\n",
       "      <th>75</th>\n",
       "      <td>ALB</td>\n",
       "      <td>Albania</td>\n",
       "      <td>Europe</td>\n",
       "      <td>Southern Europe</td>\n",
       "      <td>Violent offences</td>\n",
       "      <td>by type of offence</td>\n",
       "      <td>Sexual violence</td>\n",
       "      <td>Total</td>\n",
       "      <td>Total</td>\n",
       "      <td>2005</td>\n",
       "      <td>Counts</td>\n",
       "      <td>89.0</td>\n",
       "      <td>CTS</td>\n",
       "      <td>62.0</td>\n",
       "    </tr>\n",
       "    <tr>\n",
       "      <th>78</th>\n",
       "      <td>BEL</td>\n",
       "      <td>Belgium</td>\n",
       "      <td>Europe</td>\n",
       "      <td>Western Europe</td>\n",
       "      <td>Violent offences</td>\n",
       "      <td>by type of offence</td>\n",
       "      <td>Sexual violence</td>\n",
       "      <td>Total</td>\n",
       "      <td>Total</td>\n",
       "      <td>2005</td>\n",
       "      <td>Counts</td>\n",
       "      <td>6047.0</td>\n",
       "      <td>CTS</td>\n",
       "      <td>69.0</td>\n",
       "    </tr>\n",
       "    <tr>\n",
       "      <th>81</th>\n",
       "      <td>BLR</td>\n",
       "      <td>Belarus</td>\n",
       "      <td>Europe</td>\n",
       "      <td>Eastern Europe</td>\n",
       "      <td>Violent offences</td>\n",
       "      <td>by type of offence</td>\n",
       "      <td>Sexual violence</td>\n",
       "      <td>Total</td>\n",
       "      <td>Total</td>\n",
       "      <td>2005</td>\n",
       "      <td>Counts</td>\n",
       "      <td>819.0</td>\n",
       "      <td>CTS</td>\n",
       "      <td>365.0</td>\n",
       "    </tr>\n",
       "  </tbody>\n",
       "</table>\n",
       "</div>"
      ],
      "text/plain": [
       "   Iso3_code  Country  Region        Subregion         Indicator  \\\n",
       "30       BLR  Belarus  Europe   Eastern Europe  Violent offences   \n",
       "47       HRV  Croatia  Europe  Southern Europe  Violent offences   \n",
       "75       ALB  Albania  Europe  Southern Europe  Violent offences   \n",
       "78       BEL  Belgium  Europe   Western Europe  Violent offences   \n",
       "81       BLR  Belarus  Europe   Eastern Europe  Violent offences   \n",
       "\n",
       "             Dimension         Category    Sex    Age  Year  \\\n",
       "30  by type of offence  Sexual violence  Total  Total  2004   \n",
       "47  by type of offence  Sexual violence  Total  Total  2004   \n",
       "75  by type of offence  Sexual violence  Total  Total  2005   \n",
       "78  by type of offence  Sexual violence  Total  Total  2005   \n",
       "81  by type of offence  Sexual violence  Total  Total  2005   \n",
       "\n",
       "   Unit_of_measurement   Value Source  Trafficking_cases  \n",
       "30              Counts   775.0    CTS              400.0  \n",
       "47              Counts   485.0    CTS               14.0  \n",
       "75              Counts    89.0    CTS               62.0  \n",
       "78              Counts  6047.0    CTS               69.0  \n",
       "81              Counts   819.0    CTS              365.0  "
      ]
     },
     "execution_count": 329,
     "metadata": {},
     "output_type": "execute_result"
    }
   ],
   "source": [
    "merged_clean.head()"
   ]
  },
  {
   "cell_type": "code",
   "execution_count": 330,
   "id": "5ecd69ee",
   "metadata": {},
   "outputs": [
    {
     "name": "stdout",
     "output_type": "stream",
     "text": [
      "Unique values in 'Age':\n",
      "['Total']\n",
      "\n",
      "\n",
      "Unique values in 'Source':\n",
      "['CTS' 'CTS/MoI' 'CTS/DMDB' 'CTS/NGO' 'CTS/Computed' 'CTS/PPR'\n",
      " 'CTS/DATASUS' 'PPR/CTS' 'MoI/CTS' 'DMDB' 'NGO' 'MNS' 'MoI' 'PPR']\n",
      "\n",
      "\n",
      "Unique values in 'Unit_of_measurement':\n",
      "['Counts' 'Rate per 100,000 population']\n"
     ]
    }
   ],
   "source": [
    "# View unique values in Age\n",
    "print(\"Unique values in 'Age':\")\n",
    "print(merged_clean['Age'].unique())\n",
    "print(\"\\n\")\n",
    "\n",
    "# View unique values in Source\n",
    "print(\"Unique values in 'Source':\")\n",
    "print(merged_clean['Source'].unique())\n",
    "print(\"\\n\")\n",
    "\n",
    "# View unique values in Unit_of_measurement\n",
    "print(\"Unique values in 'Unit_of_measurement':\")\n",
    "print(merged_clean['Unit_of_measurement'].unique())\n"
   ]
  },
  {
   "cell_type": "code",
   "execution_count": 331,
   "id": "328ce31a",
   "metadata": {},
   "outputs": [
    {
     "name": "stdout",
     "output_type": "stream",
     "text": [
      "Dropped 'Age' column since it only contains 'Total'\n"
     ]
    },
    {
     "name": "stderr",
     "output_type": "stream",
     "text": [
      "C:\\Users\\Admin\\AppData\\Local\\Temp\\ipykernel_12480\\3646898926.py:2: SettingWithCopyWarning: \n",
      "A value is trying to be set on a copy of a slice from a DataFrame\n",
      "\n",
      "See the caveats in the documentation: https://pandas.pydata.org/pandas-docs/stable/user_guide/indexing.html#returning-a-view-versus-a-copy\n",
      "  merged_clean.drop('Age', axis=1, inplace=True)\n"
     ]
    }
   ],
   "source": [
    "if merged_clean['Age'].nunique() == 1:\n",
    "    merged_clean.drop('Age', axis=1, inplace=True)\n",
    "    print(\"Dropped 'Age' column since it only contains 'Total'\")\n"
   ]
  },
  {
   "cell_type": "code",
   "execution_count": 332,
   "id": "2fd33b29",
   "metadata": {},
   "outputs": [
    {
     "data": {
      "image/png": "[encoded data removed]",
      "text/plain": [
       "<Figure size 800x500 with 1 Axes>"
      ]
     },
     "metadata": {},
     "output_type": "display_data"
    }
   ],
   "source": [
    "# Plot distribution of the target variable\n",
    "plt.figure(figsize=(8, 5))\n",
    "sns.histplot(merged_clean['Value'], bins=30, kde=True, color='darkorange')\n",
    "plt.title('Distribution of Sexual Violence Cases')\n",
    "plt.xlabel('Sexual Violence Case Count')\n",
    "plt.tight_layout()\n",
    "plt.show()\n"
   ]
  },
  {
   "cell_type": "code",
   "execution_count": 333,
   "id": "1262e34f",
   "metadata": {},
   "outputs": [
    {
     "name": "stdout",
     "output_type": "stream",
     "text": [
      "Skewness of target variable (Value): 10.406700395289107\n"
     ]
    }
   ],
   "source": [
    "print(\"Skewness of target variable (Value):\", merged_clean['Value'].skew())\n"
   ]
  },
  {
   "cell_type": "markdown",
   "id": "02d04e15",
   "metadata": {},
   "source": [
    "### **The data is extremely right-skewed.\n",
    "\n",
    "**Most of the Value counts are low, but a few countries or years report very high cases, stretching the tail.**\n",
    "\n",
    "**This creates imbalance that can bias models or make them unstable.**"
   ]
  },
  {
   "cell_type": "markdown",
   "id": "3c59616c",
   "metadata": {},
   "source": [
    "### Using log-transform on my Value column to reduce skewness"
   ]
  },
  {
   "cell_type": "code",
   "execution_count": 334,
   "id": "d5fa57db",
   "metadata": {},
   "outputs": [
    {
     "name": "stderr",
     "output_type": "stream",
     "text": [
      "C:\\Users\\Admin\\AppData\\Local\\Temp\\ipykernel_12480\\446171354.py:3: SettingWithCopyWarning: \n",
      "A value is trying to be set on a copy of a slice from a DataFrame.\n",
      "Try using .loc[row_indexer,col_indexer] = value instead\n",
      "\n",
      "See the caveats in the documentation: https://pandas.pydata.org/pandas-docs/stable/user_guide/indexing.html#returning-a-view-versus-a-copy\n",
      "  merged_clean.loc[:, 'log_Value'] = np.log1p(merged_clean['Value'])  # log1p = log(Value + 1)\n"
     ]
    },
    {
     "data": {
      "image/png": "[encoded data removed]",
      "text/plain": [
       "<Figure size 800x500 with 1 Axes>"
      ]
     },
     "metadata": {},
     "output_type": "display_data"
    },
    {
     "name": "stdout",
     "output_type": "stream",
     "text": [
      "Skewness after log-transform: 0.4616218093458084\n"
     ]
    }
   ],
   "source": [
    "# Create a log-transformed version of the target variable\n",
    "# Avoid SettingWithCopyWarning using .loc\n",
    "merged_clean.loc[:, 'log_Value'] = np.log1p(merged_clean['Value'])  # log1p = log(Value + 1)\n",
    "  # log1p handles zero safely\n",
    "\n",
    "# Plot the transformed distribution\n",
    "plt.figure(figsize=(8, 5))\n",
    "sns.histplot(merged_clean['log_Value'], bins=30, kde=True, color='mediumseagreen')\n",
    "plt.title('Log-Transformed Distribution of Sexual Violence Cases')\n",
    "plt.xlabel('log(Value + 1)')\n",
    "plt.tight_layout()\n",
    "plt.show()\n",
    "\n",
    "# Check skewness again\n",
    "print(\"Skewness after log-transform:\", merged_clean['log_Value'].skew())\n"
   ]
  },
  {
   "cell_type": "code",
   "execution_count": 335,
   "id": "a9b4bf4b",
   "metadata": {},
   "outputs": [
    {
     "name": "stdout",
     "output_type": "stream",
     "text": [
      "Indicator\n",
      "Violent offences              5682\n",
      "Victims of sexual violence    2354\n",
      "Name: count, dtype: int64\n"
     ]
    }
   ],
   "source": [
    "print(merged_clean['Indicator'].value_counts())\n"
   ]
  },
  {
   "cell_type": "code",
   "execution_count": 336,
   "id": "f17c1b8a",
   "metadata": {},
   "outputs": [
    {
     "name": "stdout",
     "output_type": "stream",
     "text": [
      "One-hot encoding completed for 'Sex', 'Indicator' and 'Category'\n",
      "Dropped unused columns:'Source', 'Unit_of_measurement'\n",
      "Final dataset shape: (8036, 20)\n",
      "Preview of encoded dataset:\n",
      "   Iso3_code  Country  Region        Subregion           Dimension  Year  \\\n",
      "30       BLR  Belarus  Europe   Eastern Europe  by type of offence  2004   \n",
      "47       HRV  Croatia  Europe  Southern Europe  by type of offence  2004   \n",
      "75       ALB  Albania  Europe  Southern Europe  by type of offence  2005   \n",
      "78       BEL  Belgium  Europe   Western Europe  by type of offence  2005   \n",
      "81       BLR  Belarus  Europe   Eastern Europe  by type of offence  2005   \n",
      "\n",
      "     Value  Trafficking_cases  log_Value  Sex_Male  Sex_Total  \\\n",
      "30   775.0              400.0   6.654153         0          1   \n",
      "47   485.0               14.0   6.186209         0          1   \n",
      "75    89.0               62.0   4.499810         0          1   \n",
      "78  6047.0               69.0   8.707483         0          1   \n",
      "81   819.0              365.0   6.709304         0          1   \n",
      "\n",
      "    Indicator_Violent offences  \\\n",
      "30                           1   \n",
      "47                           1   \n",
      "75                           1   \n",
      "78                           1   \n",
      "81                           1   \n",
      "\n",
      "    Category_Other Perpetrator known to the victim  \\\n",
      "30                                               0   \n",
      "47                                               0   \n",
      "75                                               0   \n",
      "78                                               0   \n",
      "81                                               0   \n",
      "\n",
      "    Category_Perpetrator unknown to the victim  \\\n",
      "30                                           0   \n",
      "47                                           0   \n",
      "75                                           0   \n",
      "78                                           0   \n",
      "81                                           0   \n",
      "\n",
      "    Category_Relationship to perpetrator is not known  \\\n",
      "30                                                  0   \n",
      "47                                                  0   \n",
      "75                                                  0   \n",
      "78                                                  0   \n",
      "81                                                  0   \n",
      "\n",
      "    Category_Sexual Exploitation  Category_Sexual violence  \\\n",
      "30                             0                         1   \n",
      "47                             0                         1   \n",
      "75                             0                         1   \n",
      "78                             0                         1   \n",
      "81                             0                         1   \n",
      "\n",
      "    Category_Sexual violence: Other acts of sexual violence  \\\n",
      "30                                                  0         \n",
      "47                                                  0         \n",
      "75                                                  0         \n",
      "78                                                  0         \n",
      "81                                                  0         \n",
      "\n",
      "    Category_Sexual violence: Rape  Category_Sexual violence: Sexual assault  \n",
      "30                               0                                         0  \n",
      "47                               0                                         0  \n",
      "75                               0                                         0  \n",
      "78                               0                                         0  \n",
      "81                               0                                         0  \n"
     ]
    }
   ],
   "source": [
    "# Make a copy to avoid changing original dataset\n",
    "df_encoded = merged_clean.copy()\n",
    "\n",
    "# One-hot encode 'Sex', 'Indicator' and 'Category'\n",
    "df_encoded = pd.get_dummies(df_encoded, columns=['Sex', 'Indicator', 'Category'], drop_first=True, dtype=int)\n",
    "print(\"One-hot encoding completed for 'Sex', 'Indicator' and 'Category'\")\n",
    "\n",
    "# Drop columns that won’t be used for modeling\n",
    "df_encoded.drop(columns=['Source', 'Unit_of_measurement'], inplace=True)\n",
    "print(\"Dropped unused columns:'Source', 'Unit_of_measurement'\")\n",
    "\n",
    "# Final check\n",
    "print(\"Final dataset shape:\", df_encoded.shape)\n",
    "print(\"Preview of encoded dataset:\")\n",
    "print(df_encoded.head())\n"
   ]
  },
  {
   "cell_type": "code",
   "execution_count": 337,
   "id": "14444599",
   "metadata": {},
   "outputs": [
    {
     "data": {
      "text/html": [
       "<div>\n",
       "<style scoped>\n",
       "    .dataframe tbody tr th:only-of-type {\n",
       "        vertical-align: middle;\n",
       "    }\n",
       "\n",
       "    .dataframe tbody tr th {\n",
       "        vertical-align: top;\n",
       "    }\n",
       "\n",
       "    .dataframe thead th {\n",
       "        text-align: right;\n",
       "    }\n",
       "</style>\n",
       "<table border=\"1\" class=\"dataframe\">\n",
       "  <thead>\n",
       "    <tr style=\"text-align: right;\">\n",
       "      <th></th>\n",
       "      <th>Iso3_code</th>\n",
       "      <th>Country</th>\n",
       "      <th>Region</th>\n",
       "      <th>Subregion</th>\n",
       "      <th>Dimension</th>\n",
       "      <th>Year</th>\n",
       "      <th>Value</th>\n",
       "      <th>Trafficking_cases</th>\n",
       "      <th>log_Value</th>\n",
       "      <th>Sex_Male</th>\n",
       "      <th>Sex_Total</th>\n",
       "      <th>Indicator_Violent offences</th>\n",
       "      <th>Category_Other Perpetrator known to the victim</th>\n",
       "      <th>Category_Perpetrator unknown to the victim</th>\n",
       "      <th>Category_Relationship to perpetrator is not known</th>\n",
       "      <th>Category_Sexual Exploitation</th>\n",
       "      <th>Category_Sexual violence</th>\n",
       "      <th>Category_Sexual violence: Other acts of sexual violence</th>\n",
       "      <th>Category_Sexual violence: Rape</th>\n",
       "      <th>Category_Sexual violence: Sexual assault</th>\n",
       "    </tr>\n",
       "  </thead>\n",
       "  <tbody>\n",
       "    <tr>\n",
       "      <th>30</th>\n",
       "      <td>BLR</td>\n",
       "      <td>Belarus</td>\n",
       "      <td>Europe</td>\n",
       "      <td>Eastern Europe</td>\n",
       "      <td>by type of offence</td>\n",
       "      <td>2004</td>\n",
       "      <td>775.0</td>\n",
       "      <td>400.0</td>\n",
       "      <td>6.654153</td>\n",
       "      <td>0</td>\n",
       "      <td>1</td>\n",
       "      <td>1</td>\n",
       "      <td>0</td>\n",
       "      <td>0</td>\n",
       "      <td>0</td>\n",
       "      <td>0</td>\n",
       "      <td>1</td>\n",
       "      <td>0</td>\n",
       "      <td>0</td>\n",
       "      <td>0</td>\n",
       "    </tr>\n",
       "    <tr>\n",
       "      <th>47</th>\n",
       "      <td>HRV</td>\n",
       "      <td>Croatia</td>\n",
       "      <td>Europe</td>\n",
       "      <td>Southern Europe</td>\n",
       "      <td>by type of offence</td>\n",
       "      <td>2004</td>\n",
       "      <td>485.0</td>\n",
       "      <td>14.0</td>\n",
       "      <td>6.186209</td>\n",
       "      <td>0</td>\n",
       "      <td>1</td>\n",
       "      <td>1</td>\n",
       "      <td>0</td>\n",
       "      <td>0</td>\n",
       "      <td>0</td>\n",
       "      <td>0</td>\n",
       "      <td>1</td>\n",
       "      <td>0</td>\n",
       "      <td>0</td>\n",
       "      <td>0</td>\n",
       "    </tr>\n",
       "    <tr>\n",
       "      <th>75</th>\n",
       "      <td>ALB</td>\n",
       "      <td>Albania</td>\n",
       "      <td>Europe</td>\n",
       "      <td>Southern Europe</td>\n",
       "      <td>by type of offence</td>\n",
       "      <td>2005</td>\n",
       "      <td>89.0</td>\n",
       "      <td>62.0</td>\n",
       "      <td>4.499810</td>\n",
       "      <td>0</td>\n",
       "      <td>1</td>\n",
       "      <td>1</td>\n",
       "      <td>0</td>\n",
       "      <td>0</td>\n",
       "      <td>0</td>\n",
       "      <td>0</td>\n",
       "      <td>1</td>\n",
       "      <td>0</td>\n",
       "      <td>0</td>\n",
       "      <td>0</td>\n",
       "    </tr>\n",
       "    <tr>\n",
       "      <th>78</th>\n",
       "      <td>BEL</td>\n",
       "      <td>Belgium</td>\n",
       "      <td>Europe</td>\n",
       "      <td>Western Europe</td>\n",
       "      <td>by type of offence</td>\n",
       "      <td>2005</td>\n",
       "      <td>6047.0</td>\n",
       "      <td>69.0</td>\n",
       "      <td>8.707483</td>\n",
       "      <td>0</td>\n",
       "      <td>1</td>\n",
       "      <td>1</td>\n",
       "      <td>0</td>\n",
       "      <td>0</td>\n",
       "      <td>0</td>\n",
       "      <td>0</td>\n",
       "      <td>1</td>\n",
       "      <td>0</td>\n",
       "      <td>0</td>\n",
       "      <td>0</td>\n",
       "    </tr>\n",
       "    <tr>\n",
       "      <th>81</th>\n",
       "      <td>BLR</td>\n",
       "      <td>Belarus</td>\n",
       "      <td>Europe</td>\n",
       "      <td>Eastern Europe</td>\n",
       "      <td>by type of offence</td>\n",
       "      <td>2005</td>\n",
       "      <td>819.0</td>\n",
       "      <td>365.0</td>\n",
       "      <td>6.709304</td>\n",
       "      <td>0</td>\n",
       "      <td>1</td>\n",
       "      <td>1</td>\n",
       "      <td>0</td>\n",
       "      <td>0</td>\n",
       "      <td>0</td>\n",
       "      <td>0</td>\n",
       "      <td>1</td>\n",
       "      <td>0</td>\n",
       "      <td>0</td>\n",
       "      <td>0</td>\n",
       "    </tr>\n",
       "  </tbody>\n",
       "</table>\n",
       "</div>"
      ],
      "text/plain": [
       "   Iso3_code  Country  Region        Subregion           Dimension  Year  \\\n",
       "30       BLR  Belarus  Europe   Eastern Europe  by type of offence  2004   \n",
       "47       HRV  Croatia  Europe  Southern Europe  by type of offence  2004   \n",
       "75       ALB  Albania  Europe  Southern Europe  by type of offence  2005   \n",
       "78       BEL  Belgium  Europe   Western Europe  by type of offence  2005   \n",
       "81       BLR  Belarus  Europe   Eastern Europe  by type of offence  2005   \n",
       "\n",
       "     Value  Trafficking_cases  log_Value  Sex_Male  Sex_Total  \\\n",
       "30   775.0              400.0   6.654153         0          1   \n",
       "47   485.0               14.0   6.186209         0          1   \n",
       "75    89.0               62.0   4.499810         0          1   \n",
       "78  6047.0               69.0   8.707483         0          1   \n",
       "81   819.0              365.0   6.709304         0          1   \n",
       "\n",
       "    Indicator_Violent offences  \\\n",
       "30                           1   \n",
       "47                           1   \n",
       "75                           1   \n",
       "78                           1   \n",
       "81                           1   \n",
       "\n",
       "    Category_Other Perpetrator known to the victim  \\\n",
       "30                                               0   \n",
       "47                                               0   \n",
       "75                                               0   \n",
       "78                                               0   \n",
       "81                                               0   \n",
       "\n",
       "    Category_Perpetrator unknown to the victim  \\\n",
       "30                                           0   \n",
       "47                                           0   \n",
       "75                                           0   \n",
       "78                                           0   \n",
       "81                                           0   \n",
       "\n",
       "    Category_Relationship to perpetrator is not known  \\\n",
       "30                                                  0   \n",
       "47                                                  0   \n",
       "75                                                  0   \n",
       "78                                                  0   \n",
       "81                                                  0   \n",
       "\n",
       "    Category_Sexual Exploitation  Category_Sexual violence  \\\n",
       "30                             0                         1   \n",
       "47                             0                         1   \n",
       "75                             0                         1   \n",
       "78                             0                         1   \n",
       "81                             0                         1   \n",
       "\n",
       "    Category_Sexual violence: Other acts of sexual violence  \\\n",
       "30                                                  0         \n",
       "47                                                  0         \n",
       "75                                                  0         \n",
       "78                                                  0         \n",
       "81                                                  0         \n",
       "\n",
       "    Category_Sexual violence: Rape  Category_Sexual violence: Sexual assault  \n",
       "30                               0                                         0  \n",
       "47                               0                                         0  \n",
       "75                               0                                         0  \n",
       "78                               0                                         0  \n",
       "81                               0                                         0  "
      ]
     },
     "execution_count": 337,
     "metadata": {},
     "output_type": "execute_result"
    }
   ],
   "source": [
    "df_encoded.head()"
   ]
  },
  {
   "cell_type": "code",
   "execution_count": 338,
   "id": "45cdc67b",
   "metadata": {},
   "outputs": [
    {
     "name": "stdout",
     "output_type": "stream",
     "text": [
      "                                              Feature       VIF\n",
      "4                          Indicator_Violent offences       inf\n",
      "3                                           Sex_Total       inf\n",
      "10  Category_Sexual violence: Other acts of sexual...       inf\n",
      "11                     Category_Sexual violence: Rape       inf\n",
      "8                        Category_Sexual Exploitation       inf\n",
      "12           Category_Sexual violence: Sexual assault       inf\n",
      "9                            Category_Sexual violence       inf\n",
      "2                                            Sex_Male  1.728888\n",
      "7   Category_Relationship to perpetrator is not known  1.704936\n",
      "6          Category_Perpetrator unknown to the victim  1.649253\n",
      "5      Category_Other Perpetrator known to the victim  1.622637\n",
      "0                                                Year  1.265931\n",
      "1                                   Trafficking_cases  1.038537\n"
     ]
    },
    {
     "name": "stderr",
     "output_type": "stream",
     "text": [
      "c:\\Users\\Admin\\AppData\\Local\\Programs\\Python\\Python313\\Lib\\site-packages\\statsmodels\\stats\\outliers_influence.py:197: RuntimeWarning: divide by zero encountered in scalar divide\n",
      "  vif = 1. / (1. - r_squared_i)\n"
     ]
    }
   ],
   "source": [
    "from statsmodels.stats.outliers_influence import variance_inflation_factor\n",
    "from sklearn.preprocessing import StandardScaler\n",
    "\n",
    "# Select only numeric features from your encoded dataset\n",
    "numeric_features = df_encoded.select_dtypes(include=['int64', 'float64'])\n",
    "\n",
    "# Drop target columns (if present)\n",
    "X = numeric_features.drop(columns=['Value', 'log_Value'], errors='ignore')\n",
    "\n",
    "# Standardize features before calculating VIF\n",
    "scaler = StandardScaler()\n",
    "X_scaled = scaler.fit_transform(X)\n",
    "\n",
    "# Compute VIF for each feature\n",
    "vif_data = pd.DataFrame()\n",
    "vif_data[\"Feature\"] = X.columns\n",
    "vif_data[\"VIF\"] = [variance_inflation_factor(X_scaled, i) for i in range(X_scaled.shape[1])]\n",
    "\n",
    "# Display sorted VIF values\n",
    "print(vif_data.sort_values(by=\"VIF\", ascending=False))\n"
   ]
  },
  {
   "cell_type": "code",
   "execution_count": 339,
   "id": "090a5f44",
   "metadata": {},
   "outputs": [
    {
     "name": "stdout",
     "output_type": "stream",
     "text": [
      "                                              Feature       VIF\n",
      "4                          Indicator_Violent offences       inf\n",
      "3                                            Sex_Male       inf\n",
      "10  Category_Sexual violence: Other acts of sexual...       inf\n",
      "11                     Category_Sexual violence: Rape       inf\n",
      "8                        Category_Sexual Exploitation       inf\n",
      "9                            Category_Sexual violence       inf\n",
      "12           Category_Sexual violence: Sexual assault       inf\n",
      "13                                         Sex_Female       inf\n",
      "7   Category_Relationship to perpetrator is not known  1.704936\n",
      "6          Category_Perpetrator unknown to the victim  1.649253\n",
      "5      Category_Other Perpetrator known to the victim  1.622637\n",
      "1                                                Year  1.265931\n",
      "2                                   Trafficking_cases  1.038573\n",
      "0                                               const  0.000000\n"
     ]
    },
    {
     "name": "stderr",
     "output_type": "stream",
     "text": [
      "c:\\Users\\Admin\\AppData\\Local\\Programs\\Python\\Python313\\Lib\\site-packages\\statsmodels\\regression\\linear_model.py:1782: RuntimeWarning: divide by zero encountered in scalar divide\n",
      "  return 1 - self.ssr/self.centered_tss\n",
      "c:\\Users\\Admin\\AppData\\Local\\Programs\\Python\\Python313\\Lib\\site-packages\\statsmodels\\stats\\outliers_influence.py:197: RuntimeWarning: divide by zero encountered in scalar divide\n",
      "  vif = 1. / (1. - r_squared_i)\n"
     ]
    }
   ],
   "source": [
    "from statsmodels.tools.tools import add_constant\n",
    "\n",
    "# Make a fresh copy\n",
    "df_cleaned = df_encoded.copy()\n",
    "\n",
    "# Step 1: Reconstruct 'Sex' from dummy columns\n",
    "def reconstruct_sex(row):\n",
    "    if row['Sex_Total'] == 1:\n",
    "        return 'Total'\n",
    "    elif row['Sex_Male'] == 1:\n",
    "        return 'Male'\n",
    "    else:\n",
    "        return 'Female'  # Assumed if neither Total nor Male is 1\n",
    "\n",
    "df_cleaned['Sex'] = df_encoded.apply(reconstruct_sex, axis=1)\n",
    "\n",
    "# Step 2: Drop 'Sex_Total' to reduce multicollinearity\n",
    "if 'Sex_Total' in df_cleaned.columns:\n",
    "    df_cleaned.drop(columns=['Sex_Total'], inplace=True)\n",
    "\n",
    "# Step 3: Recompute Sex_Male and Sex_Female with corrected logic\n",
    "df_cleaned['Sex_Male'] = df_cleaned['Sex'].apply(lambda x: 1 if x == 'Male' else 0.5 if x == 'Total' else 0)\n",
    "df_cleaned['Sex_Female'] = df_cleaned['Sex'].apply(lambda x: 1 if x == 'Female' else 0.5 if x == 'Total' else 0)\n",
    "\n",
    "# Optional: Drop the temporary reconstructed column if not needed\n",
    "df_cleaned.drop(columns=['Sex'], inplace=True)\n",
    "\n",
    "# Step 4: Recalculate VIF\n",
    "X = df_cleaned.select_dtypes(include=['float64', 'int64']).drop(columns=['Value', 'log_Value'])\n",
    "X = add_constant(X)\n",
    "\n",
    "vif_data = pd.DataFrame()\n",
    "vif_data[\"Feature\"] = X.columns\n",
    "vif_data[\"VIF\"] = [variance_inflation_factor(X.values, i) for i in range(X.shape[1])]\n",
    "\n",
    "print(vif_data.sort_values(by=\"VIF\", ascending=False))\n"
   ]
  },
  {
   "cell_type": "code",
   "execution_count": 340,
   "id": "275387c4",
   "metadata": {},
   "outputs": [],
   "source": [
    "# Encode Region, Subregion, and Dimension in df_cleaned\n",
    "df_cleaned = pd.get_dummies(df_cleaned, columns=['Region', 'Subregion', 'Dimension'], drop_first=True)\n"
   ]
  },
  {
   "cell_type": "code",
   "execution_count": 341,
   "id": "85e6f948",
   "metadata": {},
   "outputs": [
    {
     "data": {
      "text/plain": [
       "Index(['Iso3_code', 'Country'], dtype='object')"
      ]
     },
     "execution_count": 341,
     "metadata": {},
     "output_type": "execute_result"
    }
   ],
   "source": [
    "df_cleaned.select_dtypes(include='object').columns\n"
   ]
  },
  {
   "cell_type": "code",
   "execution_count": 342,
   "id": "32bba3e5",
   "metadata": {},
   "outputs": [
    {
     "name": "stdout",
     "output_type": "stream",
     "text": [
      "                                              Feature       VIF\n",
      "4                          Indicator_Violent offences       inf\n",
      "3                                            Sex_Male       inf\n",
      "10  Category_Sexual violence: Other acts of sexual...       inf\n",
      "11                     Category_Sexual violence: Rape       inf\n",
      "8                        Category_Sexual Exploitation       inf\n",
      "9                            Category_Sexual violence       inf\n",
      "12           Category_Sexual violence: Sexual assault       inf\n",
      "13                                         Sex_Female       inf\n",
      "7   Category_Relationship to perpetrator is not known  1.704936\n",
      "6          Category_Perpetrator unknown to the victim  1.649253\n",
      "5      Category_Other Perpetrator known to the victim  1.622637\n",
      "1                                                Year  1.265931\n",
      "2                                   Trafficking_cases  1.038573\n",
      "0                                               const  0.000000\n"
     ]
    },
    {
     "name": "stderr",
     "output_type": "stream",
     "text": [
      "c:\\Users\\Admin\\AppData\\Local\\Programs\\Python\\Python313\\Lib\\site-packages\\statsmodels\\regression\\linear_model.py:1782: RuntimeWarning: divide by zero encountered in scalar divide\n",
      "  return 1 - self.ssr/self.centered_tss\n",
      "c:\\Users\\Admin\\AppData\\Local\\Programs\\Python\\Python313\\Lib\\site-packages\\statsmodels\\stats\\outliers_influence.py:197: RuntimeWarning: divide by zero encountered in scalar divide\n",
      "  vif = 1. / (1. - r_squared_i)\n"
     ]
    }
   ],
   "source": [
    "from statsmodels.tools.tools import add_constant\n",
    "from statsmodels.stats.outliers_influence import variance_inflation_factor\n",
    "\n",
    "# Select only numeric columns and exclude the target\n",
    "X = df_cleaned.select_dtypes(include=['float64', 'int64']).drop(columns=['Value', 'log_Value'], errors='ignore')\n",
    "X = add_constant(X)\n",
    "\n",
    "# Calculate VIF\n",
    "vif_data = pd.DataFrame()\n",
    "vif_data[\"Feature\"] = X.columns\n",
    "vif_data[\"VIF\"] = [variance_inflation_factor(X.values, i) for i in range(X.shape[1])]\n",
    "\n",
    "# Sort to see the most problematic features\n",
    "print(vif_data.sort_values(by=\"VIF\", ascending=False))\n"
   ]
  },
  {
   "cell_type": "code",
   "execution_count": 343,
   "id": "f9f26444",
   "metadata": {},
   "outputs": [],
   "source": [
    "from sklearn.preprocessing import StandardScaler\n",
    "\n",
    "# Make a copy to preserve the original cleaned data\n",
    "df_scaled = df_cleaned.copy()\n",
    "\n",
    "# List of columns to exclude from scaling\n",
    "excluded_columns = ['Value', 'log_Value', 'Trafficking_cases', 'Country', 'Iso3_code']\n",
    "\n",
    "# Get numeric columns that are NOT excluded\n",
    "columns_to_scale = [col for col in df_scaled.select_dtypes(include=['float64', 'int64']).columns \n",
    "                    if col not in excluded_columns]\n",
    "\n",
    "# Initialize the scaler\n",
    "scaler = StandardScaler()\n",
    "\n",
    "# Scale the selected columns\n",
    "df_scaled[columns_to_scale] = scaler.fit_transform(df_scaled[columns_to_scale])\n"
   ]
  },
  {
   "cell_type": "markdown",
   "id": "87a539e5",
   "metadata": {},
   "source": [
    "### Model Selection"
   ]
  },
  {
   "cell_type": "code",
   "execution_count": 344,
   "id": "fbf4aa76",
   "metadata": {},
   "outputs": [],
   "source": [
    "#Importing the necessary models\n",
    "from sklearn.model_selection import train_test_split\n",
    "from sklearn.pipeline import Pipeline\n",
    "from sklearn.compose import ColumnTransformer\n",
    "from sklearn.preprocessing import StandardScaler\n",
    "from sklearn.linear_model import LinearRegression, Ridge, Lasso\n",
    "from sklearn.metrics import mean_squared_error, r2_score\n",
    "from sklearn.ensemble import RandomForestRegressor\n",
    "from sklearn.model_selection import cross_val_score\n"
   ]
  },
  {
   "cell_type": "code",
   "execution_count": 345,
   "id": "546748ca",
   "metadata": {},
   "outputs": [],
   "source": [
    "# Defining our features and target variables and dropping identifiers \n",
    "target = 'log_Value'\n",
    "identifiers = ['Iso3_code', 'Country', 'Value']  # drop original target and identifiers\n",
    "\n",
    "X = df_cleaned.drop(columns=[target] + identifiers)\n",
    "y = df_cleaned[target]\n"
   ]
  },
  {
   "cell_type": "code",
   "execution_count": 346,
   "id": "6cad71d5",
   "metadata": {},
   "outputs": [],
   "source": [
    "#Splitting the data for training and testing\n",
    "X_train, X_test, y_train, y_test = train_test_split(X, y, test_size=0.2, random_state=42)\n"
   ]
  },
  {
   "cell_type": "code",
   "execution_count": 347,
   "id": "4df0c79a",
   "metadata": {},
   "outputs": [],
   "source": [
    "# Detect numeric and categorical columns automatically\n",
    "numeric_features = X.select_dtypes(include=['int64', 'float64']).columns.tolist()\n",
    "categorical_features = X.select_dtypes(include=['object', 'category']).columns.tolist()\n",
    "\n",
    "# Preprocessing steps\n",
    "preprocessor = ColumnTransformer(\n",
    "    transformers=[\n",
    "        ('num', StandardScaler(), numeric_features)\n",
    "        # categorical features should already be encoded, otherwise add OneHotEncoder here\n",
    "    ],\n",
    "    remainder='passthrough'  # in case some columns are already numeric but from dummies\n",
    ")\n"
   ]
  },
  {
   "cell_type": "code",
   "execution_count": 348,
   "id": "aa33843b",
   "metadata": {},
   "outputs": [],
   "source": [
    "#This pipeline has the following steps: scaling and passing the transformed data through a linear regression model\n",
    "regression_pipeline = Pipeline(steps=[\n",
    "    ('preprocessor', preprocessor),\n",
    "    ('regressor', LinearRegression())\n",
    "])\n"
   ]
  },
  {
   "cell_type": "code",
   "execution_count": 349,
   "id": "9eed17a4",
   "metadata": {},
   "outputs": [],
   "source": [
    "#Fitting the model\n",
    "regression_pipeline.fit(X_train, y_train)\n",
    "y_pred = regression_pipeline.predict(X_test)\n"
   ]
  },
  {
   "cell_type": "code",
   "execution_count": 350,
   "id": "bc936f84",
   "metadata": {},
   "outputs": [
    {
     "name": "stdout",
     "output_type": "stream",
     "text": [
      "Mean Squared Error: 6.25\n",
      "R² Score: 0.22\n"
     ]
    }
   ],
   "source": [
    "#Evaluating our Linear Regression model\n",
    "mse = mean_squared_error(y_test, y_pred)\n",
    "r2 = r2_score(y_test, y_pred)\n",
    "\n",
    "print(f\"Mean Squared Error: {mse:.2f}\")\n",
    "print(f\"R² Score: {r2:.2f}\")\n"
   ]
  },
  {
   "cell_type": "markdown",
   "id": "5ddf9060",
   "metadata": {},
   "source": [
    "### **The R² of 0.22 means my model explains only 22% of the variability in log_Value.**\n",
    "**This is low, meaning my model is not performing well in capturing patterns in the data.**"
   ]
  },
  {
   "cell_type": "code",
   "execution_count": 351,
   "id": "4344bf8e",
   "metadata": {},
   "outputs": [
    {
     "name": "stdout",
     "output_type": "stream",
     "text": [
      "LinearRegression: R² = -5.703 ± 3.674\n",
      "Ridge: R² = -5.703 ± 3.674\n",
      "Lasso: R² = -5.081 ± 3.368\n",
      "RandomForest: R² = -6.073 ± 3.946\n"
     ]
    }
   ],
   "source": [
    "#Trying other regression models\n",
    "\n",
    "# Define your features and target\n",
    "X = df_cleaned.drop(columns=['log_Value', 'Value', 'Country', 'Iso3_code', 'Trafficking_cases'], errors='ignore')\n",
    "y = df_cleaned['log_Value']\n",
    "\n",
    "# Dictionary of models\n",
    "models = {\n",
    "    \"LinearRegression\": LinearRegression(),\n",
    "    \"Ridge\": Ridge(alpha=1.0),\n",
    "    \"Lasso\": Lasso(alpha=0.1),\n",
    "    \"RandomForest\": RandomForestRegressor(n_estimators=100, random_state=42)\n",
    "    \n",
    "}\n",
    "\n",
    "# Store results\n",
    "results = {}\n",
    "\n",
    "# Evaluate each model\n",
    "for name, model in models.items():\n",
    "    pipeline = Pipeline([\n",
    "        (\"scaler\", StandardScaler()),\n",
    "        (\"regressor\", model)\n",
    "    ])\n",
    "    \n",
    "    scores = cross_val_score(pipeline, X, y, cv=5, scoring='r2')  # Using R² as metric\n",
    "    results[name] = {\n",
    "        \"R² mean\": np.mean(scores),\n",
    "        \"R² std\": np.std(scores)\n",
    "    }\n",
    "\n",
    "# Show results\n",
    "for model_name, metrics in results.items():\n",
    "    print(f\"{model_name}: R² = {metrics['R² mean']:.3f} ± {metrics['R² std']:.3f}\")\n"
   ]
  },
  {
   "cell_type": "code",
   "execution_count": 352,
   "id": "9d7dad6c",
   "metadata": {},
   "outputs": [
    {
     "name": "stdout",
     "output_type": "stream",
     "text": [
      "Year: 0.2301\n",
      "Sex_Female: 0.1144\n",
      "Category_Sexual violence: 0.1029\n",
      "Subregion_Western Europe: 0.0876\n",
      "Region_Americas: 0.0700\n",
      "Sex_Male: 0.0438\n",
      "Category_Sexual violence: Other acts of sexual violence: 0.0356\n",
      "Category_Relationship to perpetrator is not known: 0.0284\n",
      "Region_Asia: 0.0273\n",
      "Subregion_Northern Europe: 0.0254\n",
      "Category_Sexual violence: Sexual assault: 0.0233\n",
      "Category_Sexual violence: Rape: 0.0232\n",
      "Category_Sexual Exploitation: 0.0177\n",
      "Subregion_Southern Europe: 0.0176\n",
      "Subregion_Eastern Europe: 0.0173\n",
      "Category_Other Perpetrator known to the victim: 0.0169\n",
      "Category_Perpetrator unknown to the victim: 0.0165\n",
      "Region_Oceania: 0.0145\n",
      "Subregion_Northern America: 0.0141\n",
      "Subregion_Western Asia: 0.0138\n",
      "Subregion_Latin America and the Caribbean: 0.0107\n",
      "Region_Europe: 0.0072\n",
      "Subregion_South-eastern Asia: 0.0070\n",
      "Subregion_Northern Africa: 0.0070\n",
      "Subregion_Eastern Asia: 0.0069\n",
      "Subregion_Sub-Saharan Africa: 0.0067\n",
      "Indicator_Violent offences: 0.0047\n",
      "Dimension_by type of offence: 0.0046\n",
      "Subregion_Central Asia: 0.0025\n",
      "Subregion_Southern Asia: 0.0022\n"
     ]
    }
   ],
   "source": [
    "model = RandomForestRegressor(n_estimators=100, random_state=42)\n",
    "model.fit(X, y)\n",
    "importances = model.feature_importances_\n",
    "features = X.columns\n",
    "sorted_idx = np.argsort(importances)[::-1]\n",
    "\n",
    "for i in sorted_idx:\n",
    "    print(f\"{features[i]}: {importances[i]:.4f}\")\n"
   ]
  },
  {
   "cell_type": "code",
   "execution_count": 353,
   "id": "daf90c3f",
   "metadata": {},
   "outputs": [
    {
     "name": "stdout",
     "output_type": "stream",
     "text": [
      "✅ Model trained on 21 important features.\n",
      "Mean Squared Error: 6.29\n",
      "R² Score: 0.21\n"
     ]
    }
   ],
   "source": [
    "# Replace this with your actual X, y and importances if you named them differently\n",
    "X = df_cleaned.drop(columns=['log_Value', 'Value', 'Trafficking_cases', 'Country', 'Iso3_code'])\n",
    "y = df_cleaned['log_Value']\n",
    "\n",
    "# Feature importance from previous model\n",
    "# Replace this with your real `importances` list from the Random Forest model\n",
    "importances = model.feature_importances_\n",
    "\n",
    "# ✅ Select important features (importance >= 0.01)\n",
    "important_features = [feature for feature, importance in zip(X.columns, importances) if importance >= 0.01]\n",
    "X_important = X[important_features]\n",
    "\n",
    "# 🔁 Train-test split\n",
    "X_train, X_test, y_train, y_test = train_test_split(X_important, y, test_size=0.2, random_state=42)\n",
    "\n",
    "# 🧪 Create pipeline\n",
    "pipeline = Pipeline([\n",
    "    ('scaler', StandardScaler()),\n",
    "    ('regressor', LinearRegression())\n",
    "])\n",
    "\n",
    "# 🚀 Train model\n",
    "pipeline.fit(X_train, y_train)\n",
    "\n",
    "# 📈 Predict\n",
    "y_pred = pipeline.predict(X_test)\n",
    "\n",
    "# 📊 Evaluate\n",
    "mse = mean_squared_error(y_test, y_pred)\n",
    "r2 = r2_score(y_test, y_pred)\n",
    "\n",
    "print(f\"✅ Model trained on {len(important_features)} important features.\")\n",
    "print(f\"Mean Squared Error: {mse:.2f}\")\n",
    "print(f\"R² Score: {r2:.2f}\")\n"
   ]
  },
  {
   "cell_type": "code",
   "execution_count": 354,
   "id": "a8186e81",
   "metadata": {},
   "outputs": [
    {
     "name": "stdout",
     "output_type": "stream",
     "text": [
      "Ridge R² Score: -5.700 ± 3.670\n",
      "Ridge Final Model -- MSE: 6.36, R²: 0.20\n",
      "\n",
      "Lasso R² Score: -3.108 ± 2.394\n",
      "Lasso Final Model -- MSE: 7.93, R²: 0.00\n",
      "\n",
      "RandomForest R² Score: -6.065 ± 3.929\n",
      "RandomForest Final Model -- MSE: 5.88, R²: 0.26\n",
      "\n"
     ]
    }
   ],
   "source": [
    "# === Select the top 21 important features (replace with actual column names from your output) ===\n",
    "top_features = [\n",
    "    'Year', 'Sex_Female', 'Category_Sexual violence', 'Subregion_Western Europe',\n",
    "    'Region_Americas', 'Sex_Male', 'Category_Sexual violence: Other acts of sexual violence',\n",
    "    'Category_Relationship to perpetrator is not known', 'Region_Asia',\n",
    "    'Subregion_Northern Europe', 'Category_Sexual violence: Sexual assault',\n",
    "    'Category_Sexual violence: Rape', 'Category_Sexual Exploitation',\n",
    "    'Subregion_Southern Europe', 'Subregion_Eastern Europe',\n",
    "    'Category_Other Perpetrator known to the victim', 'Category_Perpetrator unknown to the victim',\n",
    "    'Region_Oceania', 'Subregion_Northern America', 'Subregion_Western Asia',\n",
    "    'Subregion_Latin America and the Caribbean'\n",
    "]\n",
    "\n",
    "# === Prepare your features and target ===\n",
    "X = df_cleaned[top_features]\n",
    "y = df_cleaned['log_Value']  # Target variable\n",
    "\n",
    "# === Define models ===\n",
    "models = {\n",
    "    \"Ridge\": Ridge(),\n",
    "    \"Lasso\": Lasso(),\n",
    "    \"RandomForest\": RandomForestRegressor(random_state=42)\n",
    "}\n",
    "\n",
    "# === Train, cross-validate, and evaluate each model ===\n",
    "for name, model in models.items():\n",
    "    pipeline = Pipeline([\n",
    "        ('scaler', StandardScaler()),\n",
    "        ('regressor', model)\n",
    "    ])\n",
    "    \n",
    "    # Cross-validation R²\n",
    "    scores = cross_val_score(pipeline, X, y, cv=5, scoring='r2')\n",
    "    print(f\"{name} R² Score: {scores.mean():.3f} ± {scores.std():.3f}\")\n",
    "\n",
    "    # Fit and evaluate on full data (optional)\n",
    "    pipeline.fit(X, y)\n",
    "    y_pred = pipeline.predict(X)\n",
    "    mse = mean_squared_error(y, y_pred)\n",
    "    r2 = r2_score(y, y_pred)\n",
    "    print(f\"{name} Final Model -- MSE: {mse:.2f}, R²: {r2:.2f}\\n\")\n"
   ]
  },
  {
   "cell_type": "markdown",
   "id": "c10d7ba1",
   "metadata": {},
   "source": [
    "### **My regression models are overfiting**"
   ]
  },
  {
   "cell_type": "markdown",
   "id": "837853a1",
   "metadata": {},
   "source": [
    "### Classification Problem\n",
    "### Classify countries as \"High Risk\" or \"Low Risk\" for trafficking"
   ]
  },
  {
   "cell_type": "code",
   "execution_count": 355,
   "id": "5363304a",
   "metadata": {},
   "outputs": [
    {
     "name": "stdout",
     "output_type": "stream",
     "text": [
      "\n",
      "📌 Model: Logistic Regression\n",
      "Accuracy: 0.679\n",
      "F1 Score: 0.681\n",
      "ROC-AUC: 0.738\n",
      "\n",
      "Classification Report:\n",
      "               precision    recall  f1-score   support\n",
      "\n",
      "           0       0.68      0.67      0.68       808\n",
      "           1       0.67      0.69      0.68       800\n",
      "\n",
      "    accuracy                           0.68      1608\n",
      "   macro avg       0.68      0.68      0.68      1608\n",
      "weighted avg       0.68      0.68      0.68      1608\n",
      "\n"
     ]
    },
    {
     "data": {
      "image/png": "[encoded data removed]",
      "text/plain": [
       "<Figure size 640x480 with 2 Axes>"
      ]
     },
     "metadata": {},
     "output_type": "display_data"
    },
    {
     "name": "stdout",
     "output_type": "stream",
     "text": [
      "\n",
      "📌 Model: Random Forest\n",
      "Accuracy: 0.697\n",
      "F1 Score: 0.700\n",
      "ROC-AUC: 0.780\n",
      "\n",
      "Classification Report:\n",
      "               precision    recall  f1-score   support\n",
      "\n",
      "           0       0.70      0.68      0.69       808\n",
      "           1       0.69      0.71      0.70       800\n",
      "\n",
      "    accuracy                           0.70      1608\n",
      "   macro avg       0.70      0.70      0.70      1608\n",
      "weighted avg       0.70      0.70      0.70      1608\n",
      "\n"
     ]
    },
    {
     "data": {
      "image/png": "[encoded data removed]",
      "text/plain": [
       "<Figure size 640x480 with 2 Axes>"
      ]
     },
     "metadata": {},
     "output_type": "display_data"
    },
    {
     "name": "stdout",
     "output_type": "stream",
     "text": [
      "\n",
      "📌 Model: SVM\n",
      "Accuracy: 0.704\n",
      "F1 Score: 0.724\n",
      "ROC-AUC: 0.759\n",
      "\n",
      "Classification Report:\n",
      "               precision    recall  f1-score   support\n",
      "\n",
      "           0       0.74      0.63      0.68       808\n",
      "           1       0.68      0.78      0.72       800\n",
      "\n",
      "    accuracy                           0.70      1608\n",
      "   macro avg       0.71      0.70      0.70      1608\n",
      "weighted avg       0.71      0.70      0.70      1608\n",
      "\n"
     ]
    },
    {
     "data": {
      "image/png": "[encoded data removed]",
      "text/plain": [
       "<Figure size 640x480 with 2 Axes>"
      ]
     },
     "metadata": {},
     "output_type": "display_data"
    }
   ],
   "source": [
    "from sklearn.model_selection import train_test_split, cross_val_score\n",
    "from sklearn.preprocessing import StandardScaler\n",
    "from sklearn.pipeline import Pipeline\n",
    "from sklearn.metrics import accuracy_score, f1_score, roc_auc_score, classification_report, confusion_matrix\n",
    "from sklearn.linear_model import LogisticRegression\n",
    "from sklearn.ensemble import RandomForestClassifier\n",
    "from sklearn.svm import SVC\n",
    "import seaborn as sns\n",
    "import matplotlib.pyplot as plt\n",
    "\n",
    "# 1. --- CREATE BINARY TARGET ---\n",
    "threshold = df_cleaned['Trafficking_cases'].median()\n",
    "df_cleaned['High_Risk_Flag'] = (df_cleaned['Trafficking_cases'] > threshold).astype(int)\n",
    "\n",
    "# 2. --- SELECT FEATURES ---\n",
    "features = df_cleaned.drop(columns=['Country', 'Iso3_code', 'Trafficking_cases', 'log_Value', 'Value', 'High_Risk_Flag'])\n",
    "target = df_cleaned['High_Risk_Flag']\n",
    "\n",
    "# 3. --- TRAIN-TEST SPLIT ---\n",
    "X_train, X_test, y_train, y_test = train_test_split(features, target, test_size=0.2, random_state=42, stratify=target)\n",
    "\n",
    "# 4. --- DEFINE MODELS ---\n",
    "models = {\n",
    "    \"Logistic Regression\": LogisticRegression(max_iter=1000, random_state=42),\n",
    "    \"Random Forest\": RandomForestClassifier(n_estimators=100, random_state=42),\n",
    "    \"SVM\": SVC(probability=True, random_state=42)\n",
    "}\n",
    "\n",
    "# 5. --- TRAIN & EVALUATE ---\n",
    "for name, model in models.items():\n",
    "    pipeline = Pipeline([\n",
    "        ('scaler', StandardScaler()),\n",
    "        ('clf', model)\n",
    "    ])\n",
    "    \n",
    "    pipeline.fit(X_train, y_train)\n",
    "    y_pred = pipeline.predict(X_test)\n",
    "    y_proba = pipeline.predict_proba(X_test)[:, 1] if hasattr(model, 'predict_proba') else None\n",
    "\n",
    "    print(f\"\\n📌 Model: {name}\")\n",
    "    print(f\"Accuracy: {accuracy_score(y_test, y_pred):.3f}\")\n",
    "    print(f\"F1 Score: {f1_score(y_test, y_pred):.3f}\")\n",
    "    if y_proba is not None:\n",
    "        print(f\"ROC-AUC: {roc_auc_score(y_test, y_proba):.3f}\")\n",
    "    print(\"\\nClassification Report:\\n\", classification_report(y_test, y_pred))\n",
    "    cm = confusion_matrix(y_test, y_pred)\n",
    "    sns.heatmap(cm, annot=True, fmt='d', cmap='Blues')\n",
    "    plt.title(f\"{name} - Confusion Matrix\")\n",
    "    plt.xlabel(\"Predicted\")\n",
    "    plt.ylabel(\"Actual\")\n",
    "    plt.show()\n"
   ]
  },
  {
   "cell_type": "markdown",
   "id": "77b596b6",
   "metadata": {},
   "source": [
    "### **We're creating a binary column:**\n",
    "\n",
    "**1 if the country has more trafficking cases than the median = High Risk**\n",
    "\n",
    "**0 otherwise = Low Risk**"
   ]
  },
  {
   "cell_type": "markdown",
   "id": "b88e89fa",
   "metadata": {},
   "source": [
    "### **Dropping unnecessary columns (like identifiers and target columns)**\n",
    "\n",
    "**features becomes the input (X)**\n",
    "\n",
    "**target is the binary output (y)**"
   ]
  },
  {
   "cell_type": "markdown",
   "id": "e1051e13",
   "metadata": {},
   "source": [
    "### **SVM gives the best F1-score and accuracy. It’s performing best at catching high-risk countries.**\n",
    "\n",
    "**Random Forest is not far behind and might be more interpretable.**\n",
    "\n",
    "**Logistic Regression is simplest and fast but slightly underperforms.**"
   ]
  },
  {
   "cell_type": "code",
   "execution_count": 356,
   "id": "0c9a39c3",
   "metadata": {},
   "outputs": [
    {
     "name": "stderr",
     "output_type": "stream",
     "text": [
      "C:\\Users\\Admin\\AppData\\Local\\Temp\\ipykernel_12480\\1574630902.py:32: FutureWarning: \n",
      "\n",
      "Passing `palette` without assigning `hue` is deprecated and will be removed in v0.14.0. Assign the `y` variable to `hue` and set `legend=False` for the same effect.\n",
      "\n",
      "  sns.barplot(x='Importance', y='Feature', data=importance_df.head(25), palette='viridis')\n",
      "C:\\Users\\Admin\\AppData\\Local\\Temp\\ipykernel_12480\\1574630902.py:34: UserWarning: Glyph 128269 (\\N{LEFT-POINTING MAGNIFYING GLASS}) missing from font(s) DejaVu Sans.\n",
      "  plt.tight_layout()\n",
      "C:\\Users\\Admin\\AppData\\Roaming\\Python\\Python313\\site-packages\\IPython\\core\\pylabtools.py:170: UserWarning: Glyph 128269 (\\N{LEFT-POINTING MAGNIFYING GLASS}) missing from font(s) DejaVu Sans.\n",
      "  fig.canvas.print_figure(bytes_io, **kw)\n"
     ]
    },
    {
     "data": {
      "image/png": "[encoded data removed]",
      "text/plain": [
       "<Figure size 1000x800 with 1 Axes>"
      ]
     },
     "metadata": {},
     "output_type": "display_data"
    }
   ],
   "source": [
    "from sklearn.ensemble import RandomForestClassifier\n",
    "from sklearn.pipeline import Pipeline\n",
    "from sklearn.preprocessing import StandardScaler\n",
    "from sklearn.model_selection import train_test_split\n",
    "\n",
    "# Reuse your cleaned dataset\n",
    "X = df_cleaned.drop(columns=['Country', 'Iso3_code', 'Trafficking_cases', 'log_Value', 'Value', 'High_Risk_Flag'])\n",
    "y = df_cleaned['High_Risk_Flag']\n",
    "\n",
    "# Train-test split\n",
    "X_train, X_test, y_train, y_test = train_test_split(X, y, stratify=y, test_size=0.2, random_state=42)\n",
    "\n",
    "# Build pipeline\n",
    "pipeline = Pipeline([\n",
    "    ('scaler', StandardScaler()),\n",
    "    ('rf', RandomForestClassifier(random_state=42))\n",
    "])\n",
    "\n",
    "# Fit model\n",
    "pipeline.fit(X_train, y_train)\n",
    "\n",
    "# Extract feature importances\n",
    "feature_names = X.columns\n",
    "importances = pipeline.named_steps['rf'].feature_importances_\n",
    "importance_df = pd.DataFrame({\n",
    "    'Feature': feature_names,\n",
    "    'Importance': importances\n",
    "}).sort_values(by='Importance', ascending=False)\n",
    "\n",
    "# Visualize\n",
    "plt.figure(figsize=(10, 8))\n",
    "sns.barplot(x='Importance', y='Feature', data=importance_df.head(25), palette='viridis')\n",
    "plt.title('🔍 Top 20 Most Important Features for High Risk Classification')\n",
    "plt.tight_layout()\n",
    "plt.show()\n"
   ]
  },
  {
   "cell_type": "code",
   "execution_count": 357,
   "id": "1d1923e1",
   "metadata": {},
   "outputs": [
    {
     "name": "stdout",
     "output_type": "stream",
     "text": [
      "                                                Feature  Importance\n",
      "                                                   Year    0.573744\n",
      "                               Subregion_Western Europe    0.045227\n",
      "                               Subregion_Eastern Europe    0.029959\n",
      "                                 Subregion_Western Asia    0.028101\n",
      "                              Subregion_Northern Europe    0.026980\n",
      "                                        Region_Americas    0.021376\n",
      "                           Subregion_South-eastern Asia    0.021297\n",
      "                              Subregion_Southern Europe    0.020241\n",
      "                           Subregion_Sub-Saharan Africa    0.018251\n",
      "              Subregion_Latin America and the Caribbean    0.016923\n",
      "      Category_Relationship to perpetrator is not known    0.014365\n",
      "                                         Region_Oceania    0.013238\n",
      "                                          Region_Europe    0.012319\n",
      "             Category_Perpetrator unknown to the victim    0.012290\n",
      "         Category_Other Perpetrator known to the victim    0.012276\n",
      "Category_Sexual violence: Other acts of sexual violence    0.012161\n",
      "                             Subregion_Northern America    0.011712\n",
      "                         Category_Sexual violence: Rape    0.011674\n",
      "                               Category_Sexual violence    0.011275\n",
      "               Category_Sexual violence: Sexual assault    0.011120\n",
      "                           Dimension_by type of offence    0.010822\n",
      "                                            Region_Asia    0.010361\n",
      "                                               Sex_Male    0.009695\n",
      "                                             Sex_Female    0.009330\n",
      "                             Indicator_Violent offences    0.008657\n"
     ]
    }
   ],
   "source": [
    "# Sort by importance\n",
    "importance_df = pd.DataFrame({\n",
    "    'Feature': feature_names,\n",
    "    'Importance': importances\n",
    "}).sort_values(by='Importance', ascending=False)\n",
    "\n",
    "# Print top N\n",
    "print(importance_df.head(25).to_string(index=False))\n"
   ]
  },
  {
   "cell_type": "code",
   "execution_count": 358,
   "id": "e74693e3",
   "metadata": {},
   "outputs": [
    {
     "name": "stdout",
     "output_type": "stream",
     "text": [
      "Fitting 5 folds for each of 20 candidates, totalling 100 fits\n",
      "🔍 Best Parameters: {'rf__n_estimators': 200, 'rf__min_samples_split': 2, 'rf__min_samples_leaf': 4, 'rf__max_features': 'sqrt', 'rf__max_depth': 10}\n",
      "📌 Tuned Random Forest Performance:\n",
      "              precision    recall  f1-score   support\n",
      "\n",
      "           0       0.74      0.65      0.69       808\n",
      "           1       0.69      0.77      0.72       800\n",
      "\n",
      "    accuracy                           0.71      1608\n",
      "   macro avg       0.71      0.71      0.71      1608\n",
      "weighted avg       0.71      0.71      0.71      1608\n",
      "\n",
      "ROC-AUC: 0.7979733910891089\n"
     ]
    }
   ],
   "source": [
    "from sklearn.model_selection import RandomizedSearchCV\n",
    "from sklearn.ensemble import RandomForestClassifier\n",
    "from sklearn.pipeline import Pipeline\n",
    "from sklearn.preprocessing import StandardScaler\n",
    "from sklearn.metrics import classification_report, roc_auc_score\n",
    "\n",
    "# Create pipeline\n",
    "pipeline = Pipeline([\n",
    "    ('scaler', StandardScaler()),\n",
    "    ('rf', RandomForestClassifier(random_state=42))\n",
    "])\n",
    "\n",
    "# Define hyperparameter space\n",
    "param_dist = {\n",
    "    'rf__n_estimators': [100, 200, 300],\n",
    "    'rf__max_depth': [None, 10, 20, 30],\n",
    "    'rf__min_samples_split': [2, 5, 10],\n",
    "    'rf__min_samples_leaf': [1, 2, 4],\n",
    "    'rf__max_features': ['sqrt', 'log2']\n",
    "}\n",
    "\n",
    "# Set up randomized search\n",
    "search = RandomizedSearchCV(\n",
    "    pipeline,\n",
    "    param_distributions=param_dist,\n",
    "    n_iter=20,\n",
    "    cv=5,\n",
    "    scoring='f1',\n",
    "    verbose=1,\n",
    "    n_jobs=-1,\n",
    "    random_state=42\n",
    ")\n",
    "\n",
    "# Fit model\n",
    "search.fit(X_train, y_train)\n",
    "\n",
    "# Evaluate best model\n",
    "best_model = search.best_estimator_\n",
    "y_pred = best_model.predict(X_test)\n",
    "y_proba = best_model.predict_proba(X_test)[:, 1]\n",
    "\n",
    "# Results\n",
    "print(\"🔍 Best Parameters:\", search.best_params_)\n",
    "print(\"📌 Tuned Random Forest Performance:\")\n",
    "print(classification_report(y_test, y_pred))\n",
    "print(\"ROC-AUC:\", roc_auc_score(y_test, y_proba))\n"
   ]
  },
  {
   "cell_type": "code",
   "execution_count": 359,
   "id": "02e599d5",
   "metadata": {},
   "outputs": [
    {
     "name": "stdout",
     "output_type": "stream",
     "text": [
      "🔹 Best Parameters: {'classifier__C': 0.01, 'classifier__penalty': 'l1', 'classifier__solver': 'liblinear'}\n",
      "🔹 Accuracy: 0.6791044776119403\n",
      "🔹 F1 Score: 0.6924910607866508\n",
      "🔹 ROC-AUC: 0.7313521039603961\n",
      "\n",
      "🔹 Classification Report:\n",
      "               precision    recall  f1-score   support\n",
      "\n",
      "           0       0.70      0.63      0.66       808\n",
      "           1       0.66      0.73      0.69       800\n",
      "\n",
      "    accuracy                           0.68      1608\n",
      "   macro avg       0.68      0.68      0.68      1608\n",
      "weighted avg       0.68      0.68      0.68      1608\n",
      "\n"
     ]
    }
   ],
   "source": [
    "from sklearn.pipeline import Pipeline\n",
    "from sklearn.preprocessing import StandardScaler\n",
    "from sklearn.linear_model import LogisticRegression\n",
    "from sklearn.model_selection import GridSearchCV\n",
    "from sklearn.metrics import accuracy_score, f1_score, roc_auc_score, classification_report\n",
    "\n",
    "# Pipeline for Logistic Regression\n",
    "logreg_pipeline = Pipeline([\n",
    "    ('scaler', StandardScaler()),\n",
    "    ('classifier', LogisticRegression(max_iter=1000, random_state=42))\n",
    "])\n",
    "\n",
    "# Hyperparameter grid\n",
    "logreg_param_grid = {\n",
    "    'classifier__penalty': ['l1', 'l2'],\n",
    "    'classifier__C': [0.01, 0.1, 1, 10],\n",
    "    'classifier__solver': ['liblinear', 'saga']\n",
    "}\n",
    "\n",
    "# Grid search\n",
    "logreg_grid = GridSearchCV(logreg_pipeline, logreg_param_grid, cv=5, scoring='f1', n_jobs=-1)\n",
    "logreg_grid.fit(X_train, y_train)\n",
    "\n",
    "# Evaluation\n",
    "best_logreg = logreg_grid.best_estimator_\n",
    "y_pred = best_logreg.predict(X_test)\n",
    "y_proba = best_logreg.predict_proba(X_test)[:, 1]\n",
    "\n",
    "print(\"🔹 Best Parameters:\", logreg_grid.best_params_)\n",
    "print(\"🔹 Accuracy:\", accuracy_score(y_test, y_pred))\n",
    "print(\"🔹 F1 Score:\", f1_score(y_test, y_pred))\n",
    "print(\"🔹 ROC-AUC:\", roc_auc_score(y_test, y_proba))\n",
    "print(\"\\n🔹 Classification Report:\\n\", classification_report(y_test, y_pred))\n"
   ]
  },
  {
   "cell_type": "code",
   "execution_count": 360,
   "id": "38dc22eb",
   "metadata": {},
   "outputs": [],
   "source": [
    "# from sklearn.svm import SVC\n",
    "\n",
    "# # Pipeline for SVM\n",
    "# svm_pipeline = Pipeline([\n",
    "#     ('scaler', StandardScaler()),\n",
    "#     ('classifier', SVC(probability=True, random_state=42))\n",
    "# ])\n",
    "\n",
    "# # Hyperparameter grid\n",
    "# svm_param_grid = {\n",
    "#     'classifier__C': [0.1, 1, 10],\n",
    "#     'classifier__kernel': ['linear', 'rbf'],\n",
    "#     'classifier__gamma': ['scale', 'auto']\n",
    "# }\n"
   ]
  },
  {
   "cell_type": "code",
   "execution_count": 361,
   "id": "4ae10827",
   "metadata": {},
   "outputs": [
    {
     "name": "stdout",
     "output_type": "stream",
     "text": [
      "📌 Model: KNN (Best Params: {'knn__n_neighbors': 11, 'knn__p': 1, 'knn__weights': 'uniform'} )\n",
      "Accuracy: 0.675\n",
      "F1 Score: 0.686\n",
      "ROC-AUC: 0.755\n",
      "\n",
      "Classification Report:\n",
      "               precision    recall  f1-score   support\n",
      "\n",
      "           0       0.69      0.64      0.66       808\n",
      "           1       0.66      0.71      0.69       800\n",
      "\n",
      "    accuracy                           0.68      1608\n",
      "   macro avg       0.68      0.68      0.68      1608\n",
      "weighted avg       0.68      0.68      0.67      1608\n",
      "\n"
     ]
    }
   ],
   "source": [
    "from sklearn.pipeline import Pipeline\n",
    "from sklearn.preprocessing import StandardScaler\n",
    "from sklearn.neighbors import KNeighborsClassifier\n",
    "from sklearn.model_selection import GridSearchCV\n",
    "from sklearn.metrics import accuracy_score, f1_score, roc_auc_score, classification_report\n",
    "\n",
    "# Define pipeline\n",
    "knn_pipeline = Pipeline([\n",
    "    ('scaler', StandardScaler()),\n",
    "    ('knn', KNeighborsClassifier())\n",
    "])\n",
    "\n",
    "# Hyperparameter grid\n",
    "param_grid_knn = {\n",
    "    'knn__n_neighbors': [3, 5, 7, 9, 11],\n",
    "    'knn__weights': ['uniform', 'distance'],\n",
    "    'knn__p': [1, 2]  # Manhattan and Euclidean\n",
    "}\n",
    "\n",
    "# Grid search with cross-validation\n",
    "grid_knn = GridSearchCV(knn_pipeline, param_grid_knn, cv=5, scoring='f1', n_jobs=-1)\n",
    "grid_knn.fit(X_train, y_train)\n",
    "\n",
    "# Best estimator\n",
    "best_knn = grid_knn.best_estimator_\n",
    "\n",
    "# Predict\n",
    "y_pred_knn = best_knn.predict(X_test)\n",
    "y_proba_knn = best_knn.predict_proba(X_test)[:, 1]\n",
    "\n",
    "# Evaluation\n",
    "print(\"📌 Model: KNN (Best Params:\", grid_knn.best_params_, \")\")\n",
    "print(\"Accuracy:\", round(accuracy_score(y_test, y_pred_knn), 3))\n",
    "print(\"F1 Score:\", round(f1_score(y_test, y_pred_knn), 3))\n",
    "print(\"ROC-AUC:\", round(roc_auc_score(y_test, y_proba_knn), 3))\n",
    "print(\"\\nClassification Report:\\n\", classification_report(y_test, y_pred_knn))\n"
   ]
  },
  {
   "cell_type": "code",
   "execution_count": 362,
   "id": "03e25fc5",
   "metadata": {},
   "outputs": [
    {
     "name": "stdout",
     "output_type": "stream",
     "text": [
      "📊 Model Comparison:\n",
      "\n",
      "🔹 Logistic Regression\n",
      "   - Accuracy: 0.679\n",
      "   - F1 Score: 0.681\n",
      "   - ROC-AUC: 0.738\n",
      "\n",
      "🔹 Random Forest\n",
      "   - Accuracy: 0.725\n",
      "   - F1 Score: 0.738\n",
      "   - ROC-AUC: 0.803\n",
      "\n",
      "🔹 KNN\n",
      "   - Accuracy: 0.674\n",
      "   - F1 Score: 0.666\n",
      "   - ROC-AUC: 0.750\n",
      "\n"
     ]
    }
   ],
   "source": [
    "from sklearn.model_selection import GridSearchCV\n",
    "from sklearn.linear_model import LogisticRegression\n",
    "from sklearn.ensemble import RandomForestClassifier\n",
    "from sklearn.neighbors import KNeighborsClassifier\n",
    "from sklearn.metrics import accuracy_score, f1_score, roc_auc_score\n",
    "from sklearn.pipeline import Pipeline\n",
    "from sklearn.preprocessing import StandardScaler\n",
    "\n",
    "# Define pipelines\n",
    "logreg_pipeline = Pipeline([\n",
    "    ('scaler', StandardScaler()),\n",
    "    ('logreg', LogisticRegression(max_iter=1000, solver='liblinear'))\n",
    "])\n",
    "\n",
    "rf_pipeline = Pipeline([\n",
    "    ('scaler', StandardScaler()),\n",
    "    ('rf', RandomForestClassifier(random_state=42))\n",
    "])\n",
    "\n",
    "knn_pipeline = Pipeline([\n",
    "    ('scaler', StandardScaler()),\n",
    "    ('knn', KNeighborsClassifier())\n",
    "])\n",
    "\n",
    "# Parameter grids\n",
    "logreg_params = {\n",
    "    'logreg__C': [0.01, 0.1, 1, 10]\n",
    "}\n",
    "\n",
    "rf_params = {\n",
    "    'rf__n_estimators': [100, 200],\n",
    "    'rf__max_depth': [None, 10, 20]\n",
    "}\n",
    "\n",
    "knn_params = {\n",
    "    'knn__n_neighbors': [3, 5, 7],\n",
    "    'knn__weights': ['uniform', 'distance']\n",
    "}\n",
    "\n",
    "# GridSearch for each\n",
    "grid_search_logreg = GridSearchCV(logreg_pipeline, logreg_params, cv=5, scoring='f1', n_jobs=-1)\n",
    "grid_search_rf = GridSearchCV(rf_pipeline, rf_params, cv=5, scoring='f1', n_jobs=-1)\n",
    "grid_search_knn = GridSearchCV(knn_pipeline, knn_params, cv=5, scoring='f1', n_jobs=-1)\n",
    "\n",
    "# Fit all\n",
    "grid_search_logreg.fit(X_train, y_train)\n",
    "grid_search_rf.fit(X_train, y_train)\n",
    "grid_search_knn.fit(X_train, y_train)\n",
    "\n",
    "# Best models\n",
    "best_logreg = grid_search_logreg.best_estimator_\n",
    "best_rf = grid_search_rf.best_estimator_\n",
    "best_knn = grid_search_knn.best_estimator_\n",
    "\n",
    "# Compare all models\n",
    "models = {\n",
    "    \"Logistic Regression\": best_logreg,\n",
    "    \"Random Forest\": best_rf,\n",
    "    \"KNN\": best_knn\n",
    "}\n",
    "\n",
    "print(\"📊 Model Comparison:\\n\")\n",
    "for name, model in models.items():\n",
    "    y_pred = model.predict(X_test)\n",
    "    accuracy = accuracy_score(y_test, y_pred)\n",
    "    f1 = f1_score(y_test, y_pred)\n",
    "    roc_auc = roc_auc_score(y_test, model.predict_proba(X_test)[:, 1])\n",
    "\n",
    "    print(f\"🔹 {name}\")\n",
    "    print(f\"   - Accuracy: {accuracy:.3f}\")\n",
    "    print(f\"   - F1 Score: {f1:.3f}\")\n",
    "    print(f\"   - ROC-AUC: {roc_auc:.3f}\\n\")\n"
   ]
  },
  {
   "cell_type": "markdown",
   "id": "dffa40b3",
   "metadata": {},
   "source": [
    "### Best Performance:\n",
    "**Among all your tuned models:**\n",
    "- Random Forest had the highest Accuracy (0.725), F1 Score (0.738), and ROC-AUC (0.803).\n",
    "- This indicates it handles both false positives and false negatives better than others.\n",
    "\n",
    "**Handles Complex Data:**\n",
    "- Random Forests are non-linear, robust to outliers and automatically handle feature interactions.\n",
    "\n",
    "**Feature Importance:**-\n",
    "- They offer built-in feature importance, which helped you reduce irrelevant features and improve performance.\n",
    "- Less Sensitive to Overfitting (compared to decision trees alone), especially with tuning."
   ]
  },
  {
   "cell_type": "markdown",
   "id": "6f61b235",
   "metadata": {},
   "source": [
    "### Brief Analysis of Other Models\n",
    "- Give a summary of the pros/cons:\n",
    "\n",
    "**🔹 Logistic Regression**\n",
    "- Pros: Interpretable, fast.\n",
    "- Cons: Performed the worst — accuracy (0.679), ROC-AUC (0.738) — likely underfit due to inability to capture complex relationships.\n",
    "\n",
    "**🔹 KNN**\n",
    "- Pros: Simple, non-parametric.\n",
    "- Cons: Accuracy (0.674), F1 (0.666). Sensitive to scaling, struggles in high-dimensional spaces and slow on large datasets."
   ]
  },
  {
   "cell_type": "markdown",
   "id": "543399ed",
   "metadata": {},
   "source": []
  },
  {
   "cell_type": "code",
   "execution_count": 364,
   "id": "07746b31",
   "metadata": {},
   "outputs": [
    {
     "data": {
      "text/plain": [
       "['feature_names.pkl']"
      ]
     },
     "execution_count": 364,
     "metadata": {},
     "output_type": "execute_result"
    }
   ],
   "source": [
    "import joblib\n",
    "\n",
    "# After fitting your pipeline:\n",
    "pipeline.fit(X_train, y_train)\n",
    "\n",
    "joblib.dump(pipeline, \"random_forest_model.pkl\")\n",
    "joblib.dump(X.columns.tolist(), \"feature_names.pkl\")\n"
   ]
  }
 ],
 "metadata": {
  "kernelspec": {
   "display_name": "Python 3",
   "language": "python",
   "name": "python3"
  },
  "language_info": {
   "codemirror_mode": {
    "name": "ipython",
    "version": 3
   },
   "file_extension": ".py",
   "mimetype": "text/x-python",
   "name": "python",
   "nbconvert_exporter": "python",
   "pygments_lexer": "ipython3",
   "version": "3.13.2"
  }
 },
 "nbformat": 4,
 "nbformat_minor": 5
}
